{
 "cells": [
  {
   "cell_type": "code",
   "execution_count": 43,
   "metadata": {},
   "outputs": [],
   "source": [
    "import pandas as pd\n",
    "from pathlib import Path\n",
    "import numpy as np"
   ]
  },
  {
   "cell_type": "code",
   "execution_count": 44,
   "metadata": {},
   "outputs": [],
   "source": [
    "tags_pre = pd.read_csv(Path('archive/tags.csv'))"
   ]
  },
  {
   "cell_type": "code",
   "execution_count": 45,
   "metadata": {},
   "outputs": [
    {
     "data": {
      "text/plain": [
       "1108997"
      ]
     },
     "execution_count": 45,
     "metadata": {},
     "output_type": "execute_result"
    }
   ],
   "source": [
    "len(tags_pre)"
   ]
  },
  {
   "cell_type": "code",
   "execution_count": 46,
   "metadata": {},
   "outputs": [
    {
     "data": {
      "text/html": [
       "<div>\n",
       "<style scoped>\n",
       "    .dataframe tbody tr th:only-of-type {\n",
       "        vertical-align: middle;\n",
       "    }\n",
       "\n",
       "    .dataframe tbody tr th {\n",
       "        vertical-align: top;\n",
       "    }\n",
       "\n",
       "    .dataframe thead th {\n",
       "        text-align: right;\n",
       "    }\n",
       "</style>\n",
       "<table border=\"1\" class=\"dataframe\">\n",
       "  <thead>\n",
       "    <tr style=\"text-align: right;\">\n",
       "      <th></th>\n",
       "      <th>userId</th>\n",
       "      <th>movieId</th>\n",
       "      <th>tag</th>\n",
       "      <th>timestamp</th>\n",
       "    </tr>\n",
       "  </thead>\n",
       "  <tbody>\n",
       "    <tr>\n",
       "      <th>483263</th>\n",
       "      <td>80439</td>\n",
       "      <td>123</td>\n",
       "      <td>NaN</td>\n",
       "      <td>1199450867</td>\n",
       "    </tr>\n",
       "    <tr>\n",
       "      <th>483264</th>\n",
       "      <td>80439</td>\n",
       "      <td>346</td>\n",
       "      <td>NaN</td>\n",
       "      <td>1199451946</td>\n",
       "    </tr>\n",
       "    <tr>\n",
       "      <th>483268</th>\n",
       "      <td>80439</td>\n",
       "      <td>1184</td>\n",
       "      <td>NaN</td>\n",
       "      <td>1199452261</td>\n",
       "    </tr>\n",
       "    <tr>\n",
       "      <th>483275</th>\n",
       "      <td>80439</td>\n",
       "      <td>1785</td>\n",
       "      <td>NaN</td>\n",
       "      <td>1199452006</td>\n",
       "    </tr>\n",
       "    <tr>\n",
       "      <th>483276</th>\n",
       "      <td>80439</td>\n",
       "      <td>2194</td>\n",
       "      <td>NaN</td>\n",
       "      <td>1199450677</td>\n",
       "    </tr>\n",
       "    <tr>\n",
       "      <th>483278</th>\n",
       "      <td>80439</td>\n",
       "      <td>2691</td>\n",
       "      <td>NaN</td>\n",
       "      <td>1199451002</td>\n",
       "    </tr>\n",
       "    <tr>\n",
       "      <th>483286</th>\n",
       "      <td>80439</td>\n",
       "      <td>4103</td>\n",
       "      <td>NaN</td>\n",
       "      <td>1199451920</td>\n",
       "    </tr>\n",
       "    <tr>\n",
       "      <th>483288</th>\n",
       "      <td>80439</td>\n",
       "      <td>4473</td>\n",
       "      <td>NaN</td>\n",
       "      <td>1199451040</td>\n",
       "    </tr>\n",
       "    <tr>\n",
       "      <th>483290</th>\n",
       "      <td>80439</td>\n",
       "      <td>4616</td>\n",
       "      <td>NaN</td>\n",
       "      <td>1199452441</td>\n",
       "    </tr>\n",
       "    <tr>\n",
       "      <th>483306</th>\n",
       "      <td>80439</td>\n",
       "      <td>7624</td>\n",
       "      <td>NaN</td>\n",
       "      <td>1199452266</td>\n",
       "    </tr>\n",
       "    <tr>\n",
       "      <th>483312</th>\n",
       "      <td>80439</td>\n",
       "      <td>8898</td>\n",
       "      <td>NaN</td>\n",
       "      <td>1199450757</td>\n",
       "    </tr>\n",
       "    <tr>\n",
       "      <th>483319</th>\n",
       "      <td>80439</td>\n",
       "      <td>32460</td>\n",
       "      <td>NaN</td>\n",
       "      <td>1199450901</td>\n",
       "    </tr>\n",
       "    <tr>\n",
       "      <th>483321</th>\n",
       "      <td>80439</td>\n",
       "      <td>33826</td>\n",
       "      <td>NaN</td>\n",
       "      <td>1199450703</td>\n",
       "    </tr>\n",
       "    <tr>\n",
       "      <th>483326</th>\n",
       "      <td>80439</td>\n",
       "      <td>36537</td>\n",
       "      <td>NaN</td>\n",
       "      <td>1199450736</td>\n",
       "    </tr>\n",
       "    <tr>\n",
       "      <th>483327</th>\n",
       "      <td>80439</td>\n",
       "      <td>55805</td>\n",
       "      <td>NaN</td>\n",
       "      <td>1199450941</td>\n",
       "    </tr>\n",
       "    <tr>\n",
       "      <th>926342</th>\n",
       "      <td>216343</td>\n",
       "      <td>33826</td>\n",
       "      <td>NaN</td>\n",
       "      <td>1221450908</td>\n",
       "    </tr>\n",
       "  </tbody>\n",
       "</table>\n",
       "</div>"
      ],
      "text/plain": [
       "        userId  movieId  tag   timestamp\n",
       "483263   80439      123  NaN  1199450867\n",
       "483264   80439      346  NaN  1199451946\n",
       "483268   80439     1184  NaN  1199452261\n",
       "483275   80439     1785  NaN  1199452006\n",
       "483276   80439     2194  NaN  1199450677\n",
       "483278   80439     2691  NaN  1199451002\n",
       "483286   80439     4103  NaN  1199451920\n",
       "483288   80439     4473  NaN  1199451040\n",
       "483290   80439     4616  NaN  1199452441\n",
       "483306   80439     7624  NaN  1199452266\n",
       "483312   80439     8898  NaN  1199450757\n",
       "483319   80439    32460  NaN  1199450901\n",
       "483321   80439    33826  NaN  1199450703\n",
       "483326   80439    36537  NaN  1199450736\n",
       "483327   80439    55805  NaN  1199450941\n",
       "926342  216343    33826  NaN  1221450908"
      ]
     },
     "execution_count": 46,
     "metadata": {},
     "output_type": "execute_result"
    }
   ],
   "source": [
    "tags_pre[tags_pre['tag'].isna()]"
   ]
  },
  {
   "cell_type": "code",
   "execution_count": 47,
   "metadata": {},
   "outputs": [],
   "source": [
    "tags_pre.drop_duplicates(subset=['userId', 'movieId', 'tag'], inplace=True)"
   ]
  },
  {
   "cell_type": "code",
   "execution_count": 48,
   "metadata": {},
   "outputs": [],
   "source": [
    "tags_pre.drop(tags_pre[tags_pre['tag'].isna()].index, inplace= True)"
   ]
  },
  {
   "cell_type": "code",
   "execution_count": null,
   "metadata": {},
   "outputs": [],
   "source": []
  },
  {
   "cell_type": "code",
   "execution_count": 49,
   "metadata": {},
   "outputs": [
    {
     "data": {
      "text/plain": [
       "0"
      ]
     },
     "execution_count": 49,
     "metadata": {},
     "output_type": "execute_result"
    }
   ],
   "source": [
    "tags_pre['tag'].isna().sum()"
   ]
  },
  {
   "cell_type": "code",
   "execution_count": 50,
   "metadata": {},
   "outputs": [
    {
     "data": {
      "text/html": [
       "<div>\n",
       "<style scoped>\n",
       "    .dataframe tbody tr th:only-of-type {\n",
       "        vertical-align: middle;\n",
       "    }\n",
       "\n",
       "    .dataframe tbody tr th {\n",
       "        vertical-align: top;\n",
       "    }\n",
       "\n",
       "    .dataframe thead th {\n",
       "        text-align: right;\n",
       "    }\n",
       "</style>\n",
       "<table border=\"1\" class=\"dataframe\">\n",
       "  <thead>\n",
       "    <tr style=\"text-align: right;\">\n",
       "      <th></th>\n",
       "      <th>userId</th>\n",
       "      <th>movieId</th>\n",
       "      <th>tag</th>\n",
       "      <th>timestamp</th>\n",
       "    </tr>\n",
       "  </thead>\n",
       "  <tbody>\n",
       "  </tbody>\n",
       "</table>\n",
       "</div>"
      ],
      "text/plain": [
       "Empty DataFrame\n",
       "Columns: [userId, movieId, tag, timestamp]\n",
       "Index: []"
      ]
     },
     "execution_count": 50,
     "metadata": {},
     "output_type": "execute_result"
    }
   ],
   "source": [
    "tags_pre[tags_pre['tag'].isna()]"
   ]
  },
  {
   "cell_type": "code",
   "execution_count": 51,
   "metadata": {},
   "outputs": [
    {
     "data": {
      "text/plain": [
       "[0          False\n",
       " 1          False\n",
       " 2          False\n",
       " 3          False\n",
       " 4          False\n",
       "            ...  \n",
       " 1108992    False\n",
       " 1108993    False\n",
       " 1108994    False\n",
       " 1108995    False\n",
       " 1108996    False\n",
       " Name: tag, Length: 1108981, dtype: bool]"
      ]
     },
     "execution_count": 51,
     "metadata": {},
     "output_type": "execute_result"
    }
   ],
   "source": [
    "[tags_pre['tag'] == 'NaN']"
   ]
  },
  {
   "cell_type": "code",
   "execution_count": 52,
   "metadata": {},
   "outputs": [
    {
     "data": {
      "text/html": [
       "<div>\n",
       "<style scoped>\n",
       "    .dataframe tbody tr th:only-of-type {\n",
       "        vertical-align: middle;\n",
       "    }\n",
       "\n",
       "    .dataframe tbody tr th {\n",
       "        vertical-align: top;\n",
       "    }\n",
       "\n",
       "    .dataframe thead th {\n",
       "        text-align: right;\n",
       "    }\n",
       "</style>\n",
       "<table border=\"1\" class=\"dataframe\">\n",
       "  <thead>\n",
       "    <tr style=\"text-align: right;\">\n",
       "      <th></th>\n",
       "      <th>userId</th>\n",
       "      <th>movieId</th>\n",
       "      <th>tag</th>\n",
       "      <th>timestamp</th>\n",
       "    </tr>\n",
       "  </thead>\n",
       "  <tbody>\n",
       "  </tbody>\n",
       "</table>\n",
       "</div>"
      ],
      "text/plain": [
       "Empty DataFrame\n",
       "Columns: [userId, movieId, tag, timestamp]\n",
       "Index: []"
      ]
     },
     "execution_count": 52,
     "metadata": {},
     "output_type": "execute_result"
    }
   ],
   "source": [
    "tags_pre[tags_pre.duplicated(subset=['userId', 'movieId', 'tag'])]"
   ]
  },
  {
   "cell_type": "code",
   "execution_count": 53,
   "metadata": {},
   "outputs": [],
   "source": [
    "tags_pre.drop(columns = ['timestamp'], inplace= True)"
   ]
  },
  {
   "cell_type": "code",
   "execution_count": 54,
   "metadata": {},
   "outputs": [
    {
     "data": {
      "text/plain": [
       "Index(['userId', 'movieId', 'tag'], dtype='object')"
      ]
     },
     "execution_count": 54,
     "metadata": {},
     "output_type": "execute_result"
    }
   ],
   "source": [
    "tags_pre.columns"
   ]
  },
  {
   "cell_type": "code",
   "execution_count": 56,
   "metadata": {},
   "outputs": [
    {
     "data": {
      "text/html": [
       "<div>\n",
       "<style scoped>\n",
       "    .dataframe tbody tr th:only-of-type {\n",
       "        vertical-align: middle;\n",
       "    }\n",
       "\n",
       "    .dataframe tbody tr th {\n",
       "        vertical-align: top;\n",
       "    }\n",
       "\n",
       "    .dataframe thead th {\n",
       "        text-align: right;\n",
       "    }\n",
       "</style>\n",
       "<table border=\"1\" class=\"dataframe\">\n",
       "  <thead>\n",
       "    <tr style=\"text-align: right;\">\n",
       "      <th></th>\n",
       "      <th>userId</th>\n",
       "      <th>movieId</th>\n",
       "      <th>tag</th>\n",
       "    </tr>\n",
       "  </thead>\n",
       "  <tbody>\n",
       "  </tbody>\n",
       "</table>\n",
       "</div>"
      ],
      "text/plain": [
       "Empty DataFrame\n",
       "Columns: [userId, movieId, tag]\n",
       "Index: []"
      ]
     },
     "execution_count": 56,
     "metadata": {},
     "output_type": "execute_result"
    }
   ],
   "source": [
    "tags_pre[tags_pre.duplicated()]"
   ]
  },
  {
   "cell_type": "code",
   "execution_count": 93,
   "metadata": {},
   "outputs": [],
   "source": [
    "tags_pre = tags_pre.reindex()"
   ]
  },
  {
   "cell_type": "code",
   "execution_count": 63,
   "metadata": {},
   "outputs": [],
   "source": [
    "\n",
    "import nltk\n",
    "import re\n"
   ]
  },
  {
   "cell_type": "code",
   "execution_count": 62,
   "metadata": {},
   "outputs": [
    {
     "name": "stderr",
     "output_type": "stream",
     "text": [
      "[nltk_data] Downloading package stopwords to\n",
      "[nltk_data]     /Users/khirod/nltk_data...\n",
      "[nltk_data]   Package stopwords is already up-to-date!\n",
      "[nltk_data] Downloading package punkt to /Users/khirod/nltk_data...\n",
      "[nltk_data]   Unzipping tokenizers/punkt.zip.\n"
     ]
    },
    {
     "data": {
      "text/plain": [
       "True"
      ]
     },
     "execution_count": 62,
     "metadata": {},
     "output_type": "execute_result"
    }
   ],
   "source": [
    "import ssl\n",
    "try:\n",
    "     _create_unverified_https_context =     ssl._create_unverified_context\n",
    "except AttributeError:\n",
    "     pass\n",
    "else:\n",
    "    ssl._create_default_https_context = _create_unverified_https_context\n",
    "\n",
    "nltk.download('stopwords')\n",
    "nltk.download('punkt')"
   ]
  },
  {
   "cell_type": "code",
   "execution_count": 64,
   "metadata": {},
   "outputs": [],
   "source": [
    "from nltk.corpus import stopwords\n",
    "from nltk import word_tokenize\n",
    "from nltk.stem import WordNetLemmatizer\n",
    "from string import punctuation"
   ]
  },
  {
   "cell_type": "code",
   "execution_count": 111,
   "metadata": {},
   "outputs": [],
   "source": [
    "stop_words = set(stopwords.words('english'))\n",
    "def remove_stopwords(sentence):\n",
    "    return [w for w in sentence if not w in stop_words]\n",
    "def to_lower(sentence):\n",
    "    return [w.lower() for w in sentence]\n",
    "\n",
    "def alphanum(sentence):\n",
    "    new_str = re.sub(r'[^\\w\\s]', ' ', sentence)\n",
    "    return new_str\n",
    "    # A=[]\n",
    "    # for c in sentence:\n",
    "    #     if c.isalnum()==True:\n",
    "    #         A.append(c)\n",
    "    # return A"
   ]
  },
  {
   "cell_type": "code",
   "execution_count": 100,
   "metadata": {},
   "outputs": [
    {
     "name": "stdout",
     "output_type": "stream",
     "text": [
      "['sci_fi']\n",
      "['sci_fi']\n",
      "[]\n",
      "[]\n",
      "\n"
     ]
    }
   ],
   "source": [
    "# sent = 'sci_fi'\n",
    "# tokens = word_tokenize(sent)\n",
    "# print(tokens)\n",
    "# tokens = to_lower(tokens)\n",
    "# print(tokens)\n",
    "# tokens = alphanum(tokens)\n",
    "# print(tokens)\n",
    "# tokens.sort()\n",
    "# print(tokens)\n",
    "# sent = ' '.join(tokens)\n",
    "# print(sent)"
   ]
  },
  {
   "cell_type": "code",
   "execution_count": 112,
   "metadata": {},
   "outputs": [],
   "source": [
    "new_col = []\n",
    "for i in tags_pre.index :\n",
    "    sent = tags_pre.loc[i, 'tag']\n",
    "    #print(sent)\n",
    "    sent = alphanum(sent)\n",
    "    #print (sent)\n",
    "    tokens = word_tokenize(sent)\n",
    "    tokens = to_lower(tokens)\n",
    "    tokens.sort()\n",
    "    sent = ' '.join(tokens)\n",
    "    new_col.append(sent)\n"
   ]
  },
  {
   "cell_type": "code",
   "execution_count": 113,
   "metadata": {},
   "outputs": [],
   "source": [
    "tags_pre['token_tag'] = new_col"
   ]
  },
  {
   "cell_type": "code",
   "execution_count": 119,
   "metadata": {},
   "outputs": [],
   "source": [
    "tags_pre.drop(tags_pre[tags_pre['token_tag']== ''].index, axis=0, inplace=True)"
   ]
  },
  {
   "cell_type": "code",
   "execution_count": 121,
   "metadata": {},
   "outputs": [
    {
     "data": {
      "text/html": [
       "<div>\n",
       "<style scoped>\n",
       "    .dataframe tbody tr th:only-of-type {\n",
       "        vertical-align: middle;\n",
       "    }\n",
       "\n",
       "    .dataframe tbody tr th {\n",
       "        vertical-align: top;\n",
       "    }\n",
       "\n",
       "    .dataframe thead th {\n",
       "        text-align: right;\n",
       "    }\n",
       "</style>\n",
       "<table border=\"1\" class=\"dataframe\">\n",
       "  <thead>\n",
       "    <tr style=\"text-align: right;\">\n",
       "      <th></th>\n",
       "      <th>userId</th>\n",
       "      <th>movieId</th>\n",
       "      <th>tag</th>\n",
       "      <th>token_tag</th>\n",
       "    </tr>\n",
       "  </thead>\n",
       "  <tbody>\n",
       "    <tr>\n",
       "      <th>614</th>\n",
       "      <td>449</td>\n",
       "      <td>2571</td>\n",
       "      <td>post-apocalyptic</td>\n",
       "      <td>apocalyptic post</td>\n",
       "    </tr>\n",
       "    <tr>\n",
       "      <th>621</th>\n",
       "      <td>449</td>\n",
       "      <td>2648</td>\n",
       "      <td>horror classic</td>\n",
       "      <td>classic horror</td>\n",
       "    </tr>\n",
       "    <tr>\n",
       "      <th>686</th>\n",
       "      <td>449</td>\n",
       "      <td>54503</td>\n",
       "      <td>Christopher Mintz-Plasse</td>\n",
       "      <td>christopher mintz plasse</td>\n",
       "    </tr>\n",
       "    <tr>\n",
       "      <th>747</th>\n",
       "      <td>449</td>\n",
       "      <td>71379</td>\n",
       "      <td>BORING!</td>\n",
       "      <td>boring</td>\n",
       "    </tr>\n",
       "    <tr>\n",
       "      <th>2199</th>\n",
       "      <td>1040</td>\n",
       "      <td>8870</td>\n",
       "      <td>mother-son relationship</td>\n",
       "      <td>mother relationship son</td>\n",
       "    </tr>\n",
       "    <tr>\n",
       "      <th>...</th>\n",
       "      <td>...</td>\n",
       "      <td>...</td>\n",
       "      <td>...</td>\n",
       "      <td>...</td>\n",
       "    </tr>\n",
       "    <tr>\n",
       "      <th>1106268</th>\n",
       "      <td>282405</td>\n",
       "      <td>8361</td>\n",
       "      <td>post-apocalyptic</td>\n",
       "      <td>apocalyptic post</td>\n",
       "    </tr>\n",
       "    <tr>\n",
       "      <th>1106372</th>\n",
       "      <td>282405</td>\n",
       "      <td>38061</td>\n",
       "      <td>Robert Downey Jr.</td>\n",
       "      <td>downey jr robert</td>\n",
       "    </tr>\n",
       "    <tr>\n",
       "      <th>1106542</th>\n",
       "      <td>282405</td>\n",
       "      <td>60069</td>\n",
       "      <td>post-apocalyptic</td>\n",
       "      <td>apocalyptic post</td>\n",
       "    </tr>\n",
       "    <tr>\n",
       "      <th>1107147</th>\n",
       "      <td>282405</td>\n",
       "      <td>109487</td>\n",
       "      <td>time-travel</td>\n",
       "      <td>time travel</td>\n",
       "    </tr>\n",
       "    <tr>\n",
       "      <th>1108736</th>\n",
       "      <td>283163</td>\n",
       "      <td>109487</td>\n",
       "      <td>time-travel</td>\n",
       "      <td>time travel</td>\n",
       "    </tr>\n",
       "  </tbody>\n",
       "</table>\n",
       "<p>871 rows × 4 columns</p>\n",
       "</div>"
      ],
      "text/plain": [
       "         userId  movieId                       tag                 token_tag\n",
       "614         449     2571          post-apocalyptic          apocalyptic post\n",
       "621         449     2648            horror classic            classic horror\n",
       "686         449    54503  Christopher Mintz-Plasse  christopher mintz plasse\n",
       "747         449    71379                   BORING!                    boring\n",
       "2199       1040     8870   mother-son relationship   mother relationship son\n",
       "...         ...      ...                       ...                       ...\n",
       "1106268  282405     8361          post-apocalyptic          apocalyptic post\n",
       "1106372  282405    38061         Robert Downey Jr.          downey jr robert\n",
       "1106542  282405    60069          post-apocalyptic          apocalyptic post\n",
       "1107147  282405   109487               time-travel               time travel\n",
       "1108736  283163   109487               time-travel               time travel\n",
       "\n",
       "[871 rows x 4 columns]"
      ]
     },
     "execution_count": 121,
     "metadata": {},
     "output_type": "execute_result"
    }
   ],
   "source": [
    "tags_pre[tags_pre.duplicated(['userId', 'movieId', 'token_tag'])]"
   ]
  },
  {
   "cell_type": "code",
   "execution_count": 138,
   "metadata": {},
   "outputs": [
    {
     "name": "stderr",
     "output_type": "stream",
     "text": [
      "/var/folders/8m/rpqpkl7d6mdb7nyq__l6df6c0000gp/T/ipykernel_38633/103041049.py:1: UserWarning: Boolean Series key will be reindexed to match DataFrame index.\n",
      "  tags_pre[tags_pre['userId']== 75][tags_pre['token_tag']== 'apocalyptic post' ]\n"
     ]
    },
    {
     "data": {
      "text/html": [
       "<div>\n",
       "<style scoped>\n",
       "    .dataframe tbody tr th:only-of-type {\n",
       "        vertical-align: middle;\n",
       "    }\n",
       "\n",
       "    .dataframe tbody tr th {\n",
       "        vertical-align: top;\n",
       "    }\n",
       "\n",
       "    .dataframe thead th {\n",
       "        text-align: right;\n",
       "    }\n",
       "</style>\n",
       "<table border=\"1\" class=\"dataframe\">\n",
       "  <thead>\n",
       "    <tr style=\"text-align: right;\">\n",
       "      <th></th>\n",
       "      <th>userId</th>\n",
       "      <th>movieId</th>\n",
       "      <th>tag</th>\n",
       "      <th>token_tag</th>\n",
       "    </tr>\n",
       "  </thead>\n",
       "  <tbody>\n",
       "    <tr>\n",
       "      <th>88</th>\n",
       "      <td>75</td>\n",
       "      <td>6502</td>\n",
       "      <td>post-apocalyptic</td>\n",
       "      <td>apocalyptic post</td>\n",
       "    </tr>\n",
       "    <tr>\n",
       "      <th>113</th>\n",
       "      <td>75</td>\n",
       "      <td>56174</td>\n",
       "      <td>post-apocalyptic</td>\n",
       "      <td>apocalyptic post</td>\n",
       "    </tr>\n",
       "    <tr>\n",
       "      <th>200</th>\n",
       "      <td>75</td>\n",
       "      <td>122882</td>\n",
       "      <td>post apocalyptic</td>\n",
       "      <td>apocalyptic post</td>\n",
       "    </tr>\n",
       "  </tbody>\n",
       "</table>\n",
       "</div>"
      ],
      "text/plain": [
       "     userId  movieId               tag         token_tag\n",
       "88       75     6502  post-apocalyptic  apocalyptic post\n",
       "113      75    56174  post-apocalyptic  apocalyptic post\n",
       "200      75   122882  post apocalyptic  apocalyptic post"
      ]
     },
     "execution_count": 138,
     "metadata": {},
     "output_type": "execute_result"
    }
   ],
   "source": [
    "tags_pre[tags_pre['userId']== 75][tags_pre['token_tag']== 'apocalyptic post' ]"
   ]
  },
  {
   "cell_type": "code",
   "execution_count": 139,
   "metadata": {},
   "outputs": [],
   "source": [
    "tags_pre.drop_duplicates(subset=['userId', 'movieId', 'token_tag'], inplace=True)"
   ]
  },
  {
   "cell_type": "code",
   "execution_count": 140,
   "metadata": {},
   "outputs": [
    {
     "data": {
      "text/html": [
       "<div>\n",
       "<style scoped>\n",
       "    .dataframe tbody tr th:only-of-type {\n",
       "        vertical-align: middle;\n",
       "    }\n",
       "\n",
       "    .dataframe tbody tr th {\n",
       "        vertical-align: top;\n",
       "    }\n",
       "\n",
       "    .dataframe thead th {\n",
       "        text-align: right;\n",
       "    }\n",
       "</style>\n",
       "<table border=\"1\" class=\"dataframe\">\n",
       "  <thead>\n",
       "    <tr style=\"text-align: right;\">\n",
       "      <th></th>\n",
       "      <th>userId</th>\n",
       "      <th>movieId</th>\n",
       "      <th>tag</th>\n",
       "      <th>token_tag</th>\n",
       "    </tr>\n",
       "  </thead>\n",
       "  <tbody>\n",
       "  </tbody>\n",
       "</table>\n",
       "</div>"
      ],
      "text/plain": [
       "Empty DataFrame\n",
       "Columns: [userId, movieId, tag, token_tag]\n",
       "Index: []"
      ]
     },
     "execution_count": 140,
     "metadata": {},
     "output_type": "execute_result"
    }
   ],
   "source": [
    "tags_pre[tags_pre.duplicated(['userId', 'movieId', 'token_tag'])]"
   ]
  },
  {
   "cell_type": "code",
   "execution_count": 142,
   "metadata": {},
   "outputs": [],
   "source": [
    "tags_pre.drop('token_tag', axis=1, inplace=True)"
   ]
  },
  {
   "cell_type": "code",
   "execution_count": null,
   "metadata": {},
   "outputs": [],
   "source": [
    "################################# A F t e R___F i n i sH I n G##########"
   ]
  },
  {
   "cell_type": "code",
   "execution_count": 143,
   "metadata": {},
   "outputs": [
    {
     "data": {
      "text/html": [
       "<div>\n",
       "<style scoped>\n",
       "    .dataframe tbody tr th:only-of-type {\n",
       "        vertical-align: middle;\n",
       "    }\n",
       "\n",
       "    .dataframe tbody tr th {\n",
       "        vertical-align: top;\n",
       "    }\n",
       "\n",
       "    .dataframe thead th {\n",
       "        text-align: right;\n",
       "    }\n",
       "</style>\n",
       "<table border=\"1\" class=\"dataframe\">\n",
       "  <thead>\n",
       "    <tr style=\"text-align: right;\">\n",
       "      <th></th>\n",
       "      <th>userId</th>\n",
       "      <th>movieId</th>\n",
       "      <th>tag</th>\n",
       "    </tr>\n",
       "  </thead>\n",
       "  <tbody>\n",
       "    <tr>\n",
       "      <th>0</th>\n",
       "      <td>14</td>\n",
       "      <td>110</td>\n",
       "      <td>epic</td>\n",
       "    </tr>\n",
       "    <tr>\n",
       "      <th>1</th>\n",
       "      <td>14</td>\n",
       "      <td>110</td>\n",
       "      <td>Medieval</td>\n",
       "    </tr>\n",
       "    <tr>\n",
       "      <th>2</th>\n",
       "      <td>14</td>\n",
       "      <td>260</td>\n",
       "      <td>sci-fi</td>\n",
       "    </tr>\n",
       "    <tr>\n",
       "      <th>3</th>\n",
       "      <td>14</td>\n",
       "      <td>260</td>\n",
       "      <td>space action</td>\n",
       "    </tr>\n",
       "    <tr>\n",
       "      <th>4</th>\n",
       "      <td>14</td>\n",
       "      <td>318</td>\n",
       "      <td>imdb top 250</td>\n",
       "    </tr>\n",
       "    <tr>\n",
       "      <th>...</th>\n",
       "      <td>...</td>\n",
       "      <td>...</td>\n",
       "      <td>...</td>\n",
       "    </tr>\n",
       "    <tr>\n",
       "      <th>1108992</th>\n",
       "      <td>283206</td>\n",
       "      <td>73017</td>\n",
       "      <td>fun</td>\n",
       "    </tr>\n",
       "    <tr>\n",
       "      <th>1108993</th>\n",
       "      <td>283206</td>\n",
       "      <td>73017</td>\n",
       "      <td>homoerotic subtext</td>\n",
       "    </tr>\n",
       "    <tr>\n",
       "      <th>1108994</th>\n",
       "      <td>283206</td>\n",
       "      <td>73017</td>\n",
       "      <td>pacing</td>\n",
       "    </tr>\n",
       "    <tr>\n",
       "      <th>1108995</th>\n",
       "      <td>283206</td>\n",
       "      <td>73017</td>\n",
       "      <td>plot</td>\n",
       "    </tr>\n",
       "    <tr>\n",
       "      <th>1108996</th>\n",
       "      <td>283221</td>\n",
       "      <td>49651</td>\n",
       "      <td>Sylvester Stallone</td>\n",
       "    </tr>\n",
       "  </tbody>\n",
       "</table>\n",
       "<p>1108037 rows × 3 columns</p>\n",
       "</div>"
      ],
      "text/plain": [
       "         userId  movieId                 tag\n",
       "0            14      110                epic\n",
       "1            14      110            Medieval\n",
       "2            14      260              sci-fi\n",
       "3            14      260        space action\n",
       "4            14      318        imdb top 250\n",
       "...         ...      ...                 ...\n",
       "1108992  283206    73017                 fun\n",
       "1108993  283206    73017  homoerotic subtext\n",
       "1108994  283206    73017              pacing\n",
       "1108995  283206    73017                plot\n",
       "1108996  283221    49651  Sylvester Stallone\n",
       "\n",
       "[1108037 rows x 3 columns]"
      ]
     },
     "execution_count": 143,
     "metadata": {},
     "output_type": "execute_result"
    }
   ],
   "source": [
    "tags_pre\n"
   ]
  },
  {
   "cell_type": "code",
   "execution_count": 55,
   "metadata": {},
   "outputs": [],
   "source": [
    "tags_pre.to_csv(Path('preproc_datasets/tags.csv'), index = False)"
   ]
  },
  {
   "cell_type": "code",
   "execution_count": null,
   "metadata": {},
   "outputs": [],
   "source": []
  }
 ],
 "metadata": {
  "kernelspec": {
   "display_name": "Python 3.10.6 64-bit",
   "language": "python",
   "name": "python3"
  },
  "language_info": {
   "codemirror_mode": {
    "name": "ipython",
    "version": 3
   },
   "file_extension": ".py",
   "mimetype": "text/x-python",
   "name": "python",
   "nbconvert_exporter": "python",
   "pygments_lexer": "ipython3",
   "version": "3.10.6"
  },
  "orig_nbformat": 4,
  "vscode": {
   "interpreter": {
    "hash": "aee8b7b246df8f9039afb4144a1f6fd8d2ca17a180786b69acc140d282b71a49"
   }
  }
 },
 "nbformat": 4,
 "nbformat_minor": 2
}
