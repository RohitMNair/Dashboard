{
 "cells": [
  {
   "cell_type": "code",
   "execution_count": 48,
   "id": "8eb4d0ce",
   "metadata": {},
   "outputs": [],
   "source": [
    "import random\n",
    "from functools import lru_cache\n",
    "import os\n",
    "import math\n",
    "\n",
    "import numpy as np\n",
    "import pandas as pd\n",
    "from matplotlib import pyplot as plt"
   ]
  },
  {
   "cell_type": "code",
   "execution_count": 33,
   "id": "e6480a2d",
   "metadata": {},
   "outputs": [],
   "source": [
    "movies_data = pd.read_csv('Data/movies.csv')\n",
    "ratings_data = pd.read_csv('Data/ratings.csv')\n",
    "tags_data = pd.read_csv('Data/tags.csv')\n",
    "links = pd.read_csv('Data/links.csv')\n",
    "genome_tags_data = pd.read_csv('Data/genome-tags.csv')\n",
    "genome_scores_data = pd.read_csv('Data/genome-scores.csv')\n"
   ]
  },
  {
   "cell_type": "code",
   "execution_count": 3,
   "id": "4a3133a1",
   "metadata": {},
   "outputs": [
    {
     "data": {
      "text/html": [
       "<div>\n",
       "<style scoped>\n",
       "    .dataframe tbody tr th:only-of-type {\n",
       "        vertical-align: middle;\n",
       "    }\n",
       "\n",
       "    .dataframe tbody tr th {\n",
       "        vertical-align: top;\n",
       "    }\n",
       "\n",
       "    .dataframe thead th {\n",
       "        text-align: right;\n",
       "    }\n",
       "</style>\n",
       "<table border=\"1\" class=\"dataframe\">\n",
       "  <thead>\n",
       "    <tr style=\"text-align: right;\">\n",
       "      <th></th>\n",
       "      <th>movieId</th>\n",
       "      <th>title</th>\n",
       "      <th>genres</th>\n",
       "    </tr>\n",
       "  </thead>\n",
       "  <tbody>\n",
       "    <tr>\n",
       "      <th>0</th>\n",
       "      <td>1</td>\n",
       "      <td>Toy Story (1995)</td>\n",
       "      <td>Adventure|Animation|Children|Comedy|Fantasy</td>\n",
       "    </tr>\n",
       "    <tr>\n",
       "      <th>1</th>\n",
       "      <td>2</td>\n",
       "      <td>Jumanji (1995)</td>\n",
       "      <td>Adventure|Children|Fantasy</td>\n",
       "    </tr>\n",
       "    <tr>\n",
       "      <th>2</th>\n",
       "      <td>3</td>\n",
       "      <td>Grumpier Old Men (1995)</td>\n",
       "      <td>Comedy|Romance</td>\n",
       "    </tr>\n",
       "    <tr>\n",
       "      <th>3</th>\n",
       "      <td>4</td>\n",
       "      <td>Waiting to Exhale (1995)</td>\n",
       "      <td>Comedy|Drama|Romance</td>\n",
       "    </tr>\n",
       "    <tr>\n",
       "      <th>4</th>\n",
       "      <td>5</td>\n",
       "      <td>Father of the Bride Part II (1995)</td>\n",
       "      <td>Comedy</td>\n",
       "    </tr>\n",
       "  </tbody>\n",
       "</table>\n",
       "</div>"
      ],
      "text/plain": [
       "   movieId                               title  \\\n",
       "0        1                    Toy Story (1995)   \n",
       "1        2                      Jumanji (1995)   \n",
       "2        3             Grumpier Old Men (1995)   \n",
       "3        4            Waiting to Exhale (1995)   \n",
       "4        5  Father of the Bride Part II (1995)   \n",
       "\n",
       "                                        genres  \n",
       "0  Adventure|Animation|Children|Comedy|Fantasy  \n",
       "1                   Adventure|Children|Fantasy  \n",
       "2                               Comedy|Romance  \n",
       "3                         Comedy|Drama|Romance  \n",
       "4                                       Comedy  "
      ]
     },
     "execution_count": 3,
     "metadata": {},
     "output_type": "execute_result"
    }
   ],
   "source": [
    "movies_data.head()"
   ]
  },
  {
   "cell_type": "code",
   "execution_count": 4,
   "id": "34d6ffd4",
   "metadata": {},
   "outputs": [
    {
     "data": {
      "text/plain": [
       "movieId    0\n",
       "title      0\n",
       "genres     0\n",
       "dtype: int64"
      ]
     },
     "execution_count": 4,
     "metadata": {},
     "output_type": "execute_result"
    }
   ],
   "source": [
    "movies_data.isna().sum()"
   ]
  },
  {
   "cell_type": "code",
   "execution_count": 5,
   "id": "ae65412e",
   "metadata": {},
   "outputs": [
    {
     "data": {
      "text/html": [
       "<div>\n",
       "<style scoped>\n",
       "    .dataframe tbody tr th:only-of-type {\n",
       "        vertical-align: middle;\n",
       "    }\n",
       "\n",
       "    .dataframe tbody tr th {\n",
       "        vertical-align: top;\n",
       "    }\n",
       "\n",
       "    .dataframe thead th {\n",
       "        text-align: right;\n",
       "    }\n",
       "</style>\n",
       "<table border=\"1\" class=\"dataframe\">\n",
       "  <thead>\n",
       "    <tr style=\"text-align: right;\">\n",
       "      <th></th>\n",
       "      <th>userId</th>\n",
       "      <th>movieId</th>\n",
       "      <th>rating</th>\n",
       "      <th>timestamp</th>\n",
       "    </tr>\n",
       "  </thead>\n",
       "  <tbody>\n",
       "    <tr>\n",
       "      <th>0</th>\n",
       "      <td>1</td>\n",
       "      <td>307</td>\n",
       "      <td>3.5</td>\n",
       "      <td>1256677221</td>\n",
       "    </tr>\n",
       "    <tr>\n",
       "      <th>1</th>\n",
       "      <td>1</td>\n",
       "      <td>481</td>\n",
       "      <td>3.5</td>\n",
       "      <td>1256677456</td>\n",
       "    </tr>\n",
       "    <tr>\n",
       "      <th>2</th>\n",
       "      <td>1</td>\n",
       "      <td>1091</td>\n",
       "      <td>1.5</td>\n",
       "      <td>1256677471</td>\n",
       "    </tr>\n",
       "    <tr>\n",
       "      <th>3</th>\n",
       "      <td>1</td>\n",
       "      <td>1257</td>\n",
       "      <td>4.5</td>\n",
       "      <td>1256677460</td>\n",
       "    </tr>\n",
       "    <tr>\n",
       "      <th>4</th>\n",
       "      <td>1</td>\n",
       "      <td>1449</td>\n",
       "      <td>4.5</td>\n",
       "      <td>1256677264</td>\n",
       "    </tr>\n",
       "  </tbody>\n",
       "</table>\n",
       "</div>"
      ],
      "text/plain": [
       "   userId  movieId  rating   timestamp\n",
       "0       1      307     3.5  1256677221\n",
       "1       1      481     3.5  1256677456\n",
       "2       1     1091     1.5  1256677471\n",
       "3       1     1257     4.5  1256677460\n",
       "4       1     1449     4.5  1256677264"
      ]
     },
     "execution_count": 5,
     "metadata": {},
     "output_type": "execute_result"
    }
   ],
   "source": [
    "ratings_data.head()"
   ]
  },
  {
   "cell_type": "code",
   "execution_count": 11,
   "id": "d38c59ca",
   "metadata": {},
   "outputs": [
    {
     "data": {
      "text/plain": [
       "userId       0\n",
       "movieId      0\n",
       "rating       0\n",
       "timestamp    0\n",
       "dtype: int64"
      ]
     },
     "execution_count": 11,
     "metadata": {},
     "output_type": "execute_result"
    }
   ],
   "source": [
    "ratings_data.isna().sum()"
   ]
  },
  {
   "cell_type": "markdown",
   "id": "9ceccdf7",
   "metadata": {},
   "source": [
    "### creating a new table having movie_title, year, avg_rating as columns"
   ]
  },
  {
   "cell_type": "code",
   "execution_count": 8,
   "id": "cae631b2",
   "metadata": {},
   "outputs": [],
   "source": [
    "#df = pd.read_csv('ratings.csv', usecols=['userId', 'movieId', 'rating'])"
   ]
  },
  {
   "cell_type": "code",
   "execution_count": 9,
   "id": "05a2e8b8",
   "metadata": {},
   "outputs": [],
   "source": [
    "#timestamp column is not required\n",
    "#df"
   ]
  },
  {
   "cell_type": "code",
   "execution_count": 10,
   "id": "bbaed188",
   "metadata": {},
   "outputs": [],
   "source": [
    "def munge_title(title):\n",
    "    i = title.rfind(' (')\n",
    "    if i != -1:\n",
    "        title = title[:i]\n",
    "    for suff_word in ['The', 'A', 'An']:\n",
    "        suffix = ', {}'.format(suff_word)\n",
    "        if title.endswith(suffix):\n",
    "            title = suff_word + ' ' + title[:-len(suffix)]\n",
    "    return title"
   ]
  },
  {
   "cell_type": "code",
   "execution_count": 13,
   "id": "f17247a2",
   "metadata": {},
   "outputs": [],
   "source": [
    "#function to get the year of all the movies\n",
    "def get_year(title):\n",
    "    l = title.rfind('(') + 1  ## rfind finds the last occurence \n",
    "    try:\n",
    "        return int(title[l:l+4])\n",
    "    except ValueError:\n",
    "        #print(title, end='\\t')\n",
    "        return 0"
   ]
  },
  {
   "cell_type": "code",
   "execution_count": 14,
   "id": "5b2dced4",
   "metadata": {},
   "outputs": [],
   "source": [
    "###     CODE FOR YEAR, TITLE and MOVIEID    #######\n",
    "movie_new=[]\n",
    "for t,mid in zip(movies_data['title'],movies_data['movieId']):\n",
    "    title = munge_title(t)\n",
    "    year = get_year(t)\n",
    "    movie_new.append([mid,title,year])"
   ]
  },
  {
   "cell_type": "code",
   "execution_count": 21,
   "id": "ed97463e",
   "metadata": {},
   "outputs": [],
   "source": [
    "#movie_new"
   ]
  },
  {
   "cell_type": "code",
   "execution_count": 22,
   "id": "f0614e4f",
   "metadata": {},
   "outputs": [],
   "source": [
    "movieDf = pd.DataFrame(movie_new, columns=[\"movieId\",\"title\",\"year\"])"
   ]
  },
  {
   "cell_type": "code",
   "execution_count": 23,
   "id": "c22b5c01",
   "metadata": {},
   "outputs": [
    {
     "data": {
      "text/html": [
       "<div>\n",
       "<style scoped>\n",
       "    .dataframe tbody tr th:only-of-type {\n",
       "        vertical-align: middle;\n",
       "    }\n",
       "\n",
       "    .dataframe tbody tr th {\n",
       "        vertical-align: top;\n",
       "    }\n",
       "\n",
       "    .dataframe thead th {\n",
       "        text-align: right;\n",
       "    }\n",
       "</style>\n",
       "<table border=\"1\" class=\"dataframe\">\n",
       "  <thead>\n",
       "    <tr style=\"text-align: right;\">\n",
       "      <th></th>\n",
       "      <th>movieId</th>\n",
       "      <th>title</th>\n",
       "      <th>year</th>\n",
       "    </tr>\n",
       "  </thead>\n",
       "  <tbody>\n",
       "    <tr>\n",
       "      <th>0</th>\n",
       "      <td>1</td>\n",
       "      <td>Toy Story</td>\n",
       "      <td>1995</td>\n",
       "    </tr>\n",
       "    <tr>\n",
       "      <th>1</th>\n",
       "      <td>2</td>\n",
       "      <td>Jumanji</td>\n",
       "      <td>1995</td>\n",
       "    </tr>\n",
       "    <tr>\n",
       "      <th>2</th>\n",
       "      <td>3</td>\n",
       "      <td>Grumpier Old Men</td>\n",
       "      <td>1995</td>\n",
       "    </tr>\n",
       "    <tr>\n",
       "      <th>3</th>\n",
       "      <td>4</td>\n",
       "      <td>Waiting to Exhale</td>\n",
       "      <td>1995</td>\n",
       "    </tr>\n",
       "    <tr>\n",
       "      <th>4</th>\n",
       "      <td>5</td>\n",
       "      <td>Father of the Bride Part II</td>\n",
       "      <td>1995</td>\n",
       "    </tr>\n",
       "  </tbody>\n",
       "</table>\n",
       "</div>"
      ],
      "text/plain": [
       "   movieId                        title  year\n",
       "0        1                    Toy Story  1995\n",
       "1        2                      Jumanji  1995\n",
       "2        3             Grumpier Old Men  1995\n",
       "3        4            Waiting to Exhale  1995\n",
       "4        5  Father of the Bride Part II  1995"
      ]
     },
     "execution_count": 23,
     "metadata": {},
     "output_type": "execute_result"
    }
   ],
   "source": [
    "movieDf.head()"
   ]
  },
  {
   "cell_type": "code",
   "execution_count": 38,
   "id": "4836e8bf",
   "metadata": {},
   "outputs": [
    {
     "data": {
      "text/plain": [
       "57772"
      ]
     },
     "execution_count": 38,
     "metadata": {},
     "output_type": "execute_result"
    }
   ],
   "source": [
    "len(movieDf)-326"
   ]
  },
  {
   "cell_type": "code",
   "execution_count": 36,
   "id": "9ef30d4e",
   "metadata": {},
   "outputs": [
    {
     "data": {
      "text/html": [
       "<div>\n",
       "<style scoped>\n",
       "    .dataframe tbody tr th:only-of-type {\n",
       "        vertical-align: middle;\n",
       "    }\n",
       "\n",
       "    .dataframe tbody tr th {\n",
       "        vertical-align: top;\n",
       "    }\n",
       "\n",
       "    .dataframe thead th {\n",
       "        text-align: right;\n",
       "    }\n",
       "</style>\n",
       "<table border=\"1\" class=\"dataframe\">\n",
       "  <thead>\n",
       "    <tr style=\"text-align: right;\">\n",
       "      <th></th>\n",
       "      <th>movieId</th>\n",
       "      <th>title</th>\n",
       "      <th>year</th>\n",
       "    </tr>\n",
       "  </thead>\n",
       "  <tbody>\n",
       "    <tr>\n",
       "      <th>10023</th>\n",
       "      <td>32930</td>\n",
       "      <td>Category 6: Day of Destruction</td>\n",
       "      <td>0</td>\n",
       "    </tr>\n",
       "    <tr>\n",
       "      <th>10613</th>\n",
       "      <td>40697</td>\n",
       "      <td>Babylon 5</td>\n",
       "      <td>0</td>\n",
       "    </tr>\n",
       "    <tr>\n",
       "      <th>15719</th>\n",
       "      <td>79607</td>\n",
       "      <td>The Millions Game</td>\n",
       "      <td>0</td>\n",
       "    </tr>\n",
       "    <tr>\n",
       "      <th>17444</th>\n",
       "      <td>87442</td>\n",
       "      <td>Bicycle, Spoon, Apple</td>\n",
       "      <td>0</td>\n",
       "    </tr>\n",
       "    <tr>\n",
       "      <th>24089</th>\n",
       "      <td>112406</td>\n",
       "      <td>Brazil: In the Shadow of the Stadiums</td>\n",
       "      <td>0</td>\n",
       "    </tr>\n",
       "    <tr>\n",
       "      <th>...</th>\n",
       "      <td>...</td>\n",
       "      <td>...</td>\n",
       "      <td>...</td>\n",
       "    </tr>\n",
       "    <tr>\n",
       "      <th>57504</th>\n",
       "      <td>192339</td>\n",
       "      <td>The Sign of Three</td>\n",
       "      <td>0</td>\n",
       "    </tr>\n",
       "    <tr>\n",
       "      <th>57674</th>\n",
       "      <td>192829</td>\n",
       "      <td>Parwaaz Hai Junoon</td>\n",
       "      <td>0</td>\n",
       "    </tr>\n",
       "    <tr>\n",
       "      <th>57789</th>\n",
       "      <td>193149</td>\n",
       "      <td>¿Qué te juegas?</td>\n",
       "      <td>0</td>\n",
       "    </tr>\n",
       "    <tr>\n",
       "      <th>57903</th>\n",
       "      <td>193443</td>\n",
       "      <td>Wall</td>\n",
       "      <td>0</td>\n",
       "    </tr>\n",
       "    <tr>\n",
       "      <th>57993</th>\n",
       "      <td>193657</td>\n",
       "      <td>A Kiss of Chaos</td>\n",
       "      <td>0</td>\n",
       "    </tr>\n",
       "  </tbody>\n",
       "</table>\n",
       "<p>326 rows × 3 columns</p>\n",
       "</div>"
      ],
      "text/plain": [
       "       movieId                                  title  year\n",
       "10023    32930         Category 6: Day of Destruction     0\n",
       "10613    40697                              Babylon 5     0\n",
       "15719    79607                      The Millions Game     0\n",
       "17444    87442                  Bicycle, Spoon, Apple     0\n",
       "24089   112406  Brazil: In the Shadow of the Stadiums     0\n",
       "...        ...                                    ...   ...\n",
       "57504   192339                      The Sign of Three     0\n",
       "57674   192829                     Parwaaz Hai Junoon     0\n",
       "57789   193149                        ¿Qué te juegas?     0\n",
       "57903   193443                                   Wall     0\n",
       "57993   193657                        A Kiss of Chaos     0\n",
       "\n",
       "[326 rows x 3 columns]"
      ]
     },
     "execution_count": 36,
     "metadata": {},
     "output_type": "execute_result"
    }
   ],
   "source": [
    "movieDf[movieDf['year']==0]"
   ]
  },
  {
   "cell_type": "code",
   "execution_count": 40,
   "id": "014b30bc",
   "metadata": {},
   "outputs": [
    {
     "data": {
      "text/plain": [
       "57772"
      ]
     },
     "execution_count": 40,
     "metadata": {},
     "output_type": "execute_result"
    }
   ],
   "source": [
    "movies_filtered = movieDf[movieDf['year'] != 0]\n",
    "len(movies_filtered)\n",
    "## keep movies_filtered ,, join later on"
   ]
  },
  {
   "cell_type": "code",
   "execution_count": 35,
   "id": "64972d1b",
   "metadata": {},
   "outputs": [
    {
     "data": {
      "text/plain": [
       "57772"
      ]
     },
     "execution_count": 35,
     "metadata": {},
     "output_type": "execute_result"
    }
   ],
   "source": [
    "len(movieDf)-326"
   ]
  },
  {
   "cell_type": "code",
   "execution_count": 24,
   "id": "4fdc83a8",
   "metadata": {},
   "outputs": [],
   "source": [
    "from imdb import Cinemagoer"
   ]
  },
  {
   "cell_type": "code",
   "execution_count": 29,
   "id": "7c4bce5d",
   "metadata": {},
   "outputs": [
    {
     "data": {
      "text/plain": [
       "(326, 3)"
      ]
     },
     "execution_count": 29,
     "metadata": {},
     "output_type": "execute_result"
    }
   ],
   "source": [
    "nan_movies=pd.read_csv(\"Data/nan_movies.csv\")\n",
    "nan_movies.shape"
   ]
  },
  {
   "cell_type": "code",
   "execution_count": 37,
   "id": "5503ea7e",
   "metadata": {},
   "outputs": [
    {
     "data": {
      "text/html": [
       "<div>\n",
       "<style scoped>\n",
       "    .dataframe tbody tr th:only-of-type {\n",
       "        vertical-align: middle;\n",
       "    }\n",
       "\n",
       "    .dataframe tbody tr th {\n",
       "        vertical-align: top;\n",
       "    }\n",
       "\n",
       "    .dataframe thead th {\n",
       "        text-align: right;\n",
       "    }\n",
       "</style>\n",
       "<table border=\"1\" class=\"dataframe\">\n",
       "  <thead>\n",
       "    <tr style=\"text-align: right;\">\n",
       "      <th></th>\n",
       "      <th>Unnamed: 0</th>\n",
       "      <th>movieId</th>\n",
       "      <th>title</th>\n",
       "    </tr>\n",
       "  </thead>\n",
       "  <tbody>\n",
       "    <tr>\n",
       "      <th>0</th>\n",
       "      <td>0</td>\n",
       "      <td>32930</td>\n",
       "      <td>Category 6: Day of Destruction</td>\n",
       "    </tr>\n",
       "    <tr>\n",
       "      <th>1</th>\n",
       "      <td>1</td>\n",
       "      <td>40697</td>\n",
       "      <td>Babylon 5</td>\n",
       "    </tr>\n",
       "    <tr>\n",
       "      <th>2</th>\n",
       "      <td>2</td>\n",
       "      <td>79607</td>\n",
       "      <td>The Millions Game</td>\n",
       "    </tr>\n",
       "    <tr>\n",
       "      <th>3</th>\n",
       "      <td>3</td>\n",
       "      <td>87442</td>\n",
       "      <td>Bicycle, Spoon, Apple</td>\n",
       "    </tr>\n",
       "    <tr>\n",
       "      <th>4</th>\n",
       "      <td>4</td>\n",
       "      <td>112406</td>\n",
       "      <td>Brazil: In the Shadow of the Stadiums</td>\n",
       "    </tr>\n",
       "    <tr>\n",
       "      <th>...</th>\n",
       "      <td>...</td>\n",
       "      <td>...</td>\n",
       "      <td>...</td>\n",
       "    </tr>\n",
       "    <tr>\n",
       "      <th>321</th>\n",
       "      <td>321</td>\n",
       "      <td>192339</td>\n",
       "      <td>The Sign of Three</td>\n",
       "    </tr>\n",
       "    <tr>\n",
       "      <th>322</th>\n",
       "      <td>322</td>\n",
       "      <td>192829</td>\n",
       "      <td>Parwaaz Hai Junoon</td>\n",
       "    </tr>\n",
       "    <tr>\n",
       "      <th>323</th>\n",
       "      <td>323</td>\n",
       "      <td>193149</td>\n",
       "      <td>¿Qué te juegas?</td>\n",
       "    </tr>\n",
       "    <tr>\n",
       "      <th>324</th>\n",
       "      <td>324</td>\n",
       "      <td>193443</td>\n",
       "      <td>Wall</td>\n",
       "    </tr>\n",
       "    <tr>\n",
       "      <th>325</th>\n",
       "      <td>325</td>\n",
       "      <td>193657</td>\n",
       "      <td>A Kiss of Chaos</td>\n",
       "    </tr>\n",
       "  </tbody>\n",
       "</table>\n",
       "<p>326 rows × 3 columns</p>\n",
       "</div>"
      ],
      "text/plain": [
       "     Unnamed: 0  movieId                                  title\n",
       "0             0    32930         Category 6: Day of Destruction\n",
       "1             1    40697                              Babylon 5\n",
       "2             2    79607                      The Millions Game\n",
       "3             3    87442                  Bicycle, Spoon, Apple\n",
       "4             4   112406  Brazil: In the Shadow of the Stadiums\n",
       "..          ...      ...                                    ...\n",
       "321         321   192339                      The Sign of Three\n",
       "322         322   192829                     Parwaaz Hai Junoon\n",
       "323         323   193149                        ¿Qué te juegas?\n",
       "324         324   193443                                   Wall\n",
       "325         325   193657                        A Kiss of Chaos\n",
       "\n",
       "[326 rows x 3 columns]"
      ]
     },
     "execution_count": 37,
     "metadata": {},
     "output_type": "execute_result"
    }
   ],
   "source": [
    "nan_movies"
   ]
  },
  {
   "cell_type": "code",
   "execution_count": 56,
   "id": "850d7c4f",
   "metadata": {},
   "outputs": [
    {
     "data": {
      "text/plain": [
       "210"
      ]
     },
     "execution_count": 56,
     "metadata": {},
     "output_type": "execute_result"
    }
   ],
   "source": [
    "len(nan_movies.iloc[0:210])"
   ]
  },
  {
   "cell_type": "code",
   "execution_count": 57,
   "id": "4fcb00b4",
   "metadata": {},
   "outputs": [
    {
     "data": {
      "text/plain": [
       "116"
      ]
     },
     "execution_count": 57,
     "metadata": {},
     "output_type": "execute_result"
    }
   ],
   "source": [
    "len(nan_movies.iloc[210:])"
   ]
  },
  {
   "cell_type": "code",
   "execution_count": 58,
   "id": "7f6a43df",
   "metadata": {},
   "outputs": [
    {
     "data": {
      "text/html": [
       "<div>\n",
       "<style scoped>\n",
       "    .dataframe tbody tr th:only-of-type {\n",
       "        vertical-align: middle;\n",
       "    }\n",
       "\n",
       "    .dataframe tbody tr th {\n",
       "        vertical-align: top;\n",
       "    }\n",
       "\n",
       "    .dataframe thead th {\n",
       "        text-align: right;\n",
       "    }\n",
       "</style>\n",
       "<table border=\"1\" class=\"dataframe\">\n",
       "  <thead>\n",
       "    <tr style=\"text-align: right;\">\n",
       "      <th></th>\n",
       "      <th>Unnamed: 0</th>\n",
       "      <th>movieId</th>\n",
       "      <th>title</th>\n",
       "    </tr>\n",
       "  </thead>\n",
       "  <tbody>\n",
       "    <tr>\n",
       "      <th>210</th>\n",
       "      <td>210</td>\n",
       "      <td>174039</td>\n",
       "      <td>Genesis</td>\n",
       "    </tr>\n",
       "    <tr>\n",
       "      <th>211</th>\n",
       "      <td>211</td>\n",
       "      <td>174447</td>\n",
       "      <td>A Gray State</td>\n",
       "    </tr>\n",
       "    <tr>\n",
       "      <th>212</th>\n",
       "      <td>212</td>\n",
       "      <td>174485</td>\n",
       "      <td>Salad Fingers</td>\n",
       "    </tr>\n",
       "    <tr>\n",
       "      <th>213</th>\n",
       "      <td>213</td>\n",
       "      <td>174707</td>\n",
       "      <td>Le Ride</td>\n",
       "    </tr>\n",
       "    <tr>\n",
       "      <th>214</th>\n",
       "      <td>214</td>\n",
       "      <td>174953</td>\n",
       "      <td>Mundo Cão</td>\n",
       "    </tr>\n",
       "    <tr>\n",
       "      <th>...</th>\n",
       "      <td>...</td>\n",
       "      <td>...</td>\n",
       "      <td>...</td>\n",
       "    </tr>\n",
       "    <tr>\n",
       "      <th>321</th>\n",
       "      <td>321</td>\n",
       "      <td>192339</td>\n",
       "      <td>The Sign of Three</td>\n",
       "    </tr>\n",
       "    <tr>\n",
       "      <th>322</th>\n",
       "      <td>322</td>\n",
       "      <td>192829</td>\n",
       "      <td>Parwaaz Hai Junoon</td>\n",
       "    </tr>\n",
       "    <tr>\n",
       "      <th>323</th>\n",
       "      <td>323</td>\n",
       "      <td>193149</td>\n",
       "      <td>¿Qué te juegas?</td>\n",
       "    </tr>\n",
       "    <tr>\n",
       "      <th>324</th>\n",
       "      <td>324</td>\n",
       "      <td>193443</td>\n",
       "      <td>Wall</td>\n",
       "    </tr>\n",
       "    <tr>\n",
       "      <th>325</th>\n",
       "      <td>325</td>\n",
       "      <td>193657</td>\n",
       "      <td>A Kiss of Chaos</td>\n",
       "    </tr>\n",
       "  </tbody>\n",
       "</table>\n",
       "<p>116 rows × 3 columns</p>\n",
       "</div>"
      ],
      "text/plain": [
       "     Unnamed: 0  movieId               title\n",
       "210         210   174039             Genesis\n",
       "211         211   174447        A Gray State\n",
       "212         212   174485       Salad Fingers\n",
       "213         213   174707             Le Ride\n",
       "214         214   174953           Mundo Cão\n",
       "..          ...      ...                 ...\n",
       "321         321   192339   The Sign of Three\n",
       "322         322   192829  Parwaaz Hai Junoon\n",
       "323         323   193149     ¿Qué te juegas?\n",
       "324         324   193443                Wall\n",
       "325         325   193657     A Kiss of Chaos\n",
       "\n",
       "[116 rows x 3 columns]"
      ]
     },
     "execution_count": 58,
     "metadata": {},
     "output_type": "execute_result"
    }
   ],
   "source": [
    "nan_movies_new=nan_movies.iloc[210:]\n",
    "nan_movies_new"
   ]
  },
  {
   "cell_type": "code",
   "execution_count": 59,
   "id": "86c0401e",
   "metadata": {},
   "outputs": [
    {
     "name": "stdout",
     "output_type": "stream",
     "text": [
      "0 ------- Done ----------\n",
      "Genesis 2016\n",
      "10 ------- Done ----------\n",
      "All Superheroes Must Die 2: The Last Superhero 2016\n",
      "20 ------- Done ----------\n",
      "In Search of Fellini 2017\n",
      "Id: 177265 Movie: Checkmate ImdbId: 5640954\n",
      "30 ------- Done ----------\n",
      "Sprawling from Grace 2008\n",
      "40 ------- Done ----------\n",
      "Going for Broke 2003\n",
      "50 ------- Done ----------\n",
      "Inside John Lennon - Unauthorized 2003\n",
      "60 ------- Done ----------\n",
      "Basmati Blues 2017\n",
      "70 ------- Done ----------\n",
      "Seat 25 2017\n",
      "80 ------- Done ----------\n",
      "Diamond Dogs 2017\n",
      "Id: 188661 Movie: Untitled Star Trek Sequel ImdbId: 4756228\n",
      "90 ------- Done ----------\n",
      "Veras Mantel 2017\n",
      "100 ------- Done ----------\n",
      "Tell Me Your Name 2018\n",
      "110 ------- Done ----------\n",
      "Dansa först 2018\n"
     ]
    }
   ],
   "source": [
    "## Get movie year from IMDB\n",
    "imdb_year_1 = []\n",
    "count=0\n",
    "# create an instance of the Cinemagoer class\n",
    "ia = Cinemagoer()\n",
    "\n",
    "for x,m in zip(nan_movies_new['movieId'],nan_movies_new['title']):\n",
    "    y = links[links['movieId']==x]['imdbId'].values[0]\n",
    "     #################### DO NOT TOUCH THIS CODE #####################\n",
    "    # get a movie\n",
    "    movie = ia.get_movie(y)\n",
    "    try:\n",
    "        imdb_year_1.append([x,m,movie['year']])\n",
    "    except:\n",
    "        print(\"Id:\",x,\"Movie:\",m,\"ImdbId:\",y)\n",
    "        imdb_year_1.append([x,m,0])\n",
    "    if (count%10==0):\n",
    "        print(count,\"------- Done ----------\")\n",
    "        print(m,movie['year'])\n",
    "    count+=1\n",
    "    \n",
    "    ################## DO Not Touch this code --------########"
   ]
  },
  {
   "cell_type": "code",
   "execution_count": 60,
   "id": "fca08048",
   "metadata": {},
   "outputs": [
    {
     "data": {
      "text/plain": [
       "326"
      ]
     },
     "execution_count": 60,
     "metadata": {},
     "output_type": "execute_result"
    }
   ],
   "source": [
    "len(imdb_year)+len(imdb_year_1)"
   ]
  },
  {
   "cell_type": "code",
   "execution_count": 61,
   "id": "cfe2883c",
   "metadata": {},
   "outputs": [],
   "source": [
    "nan_movies_year = pd.DataFrame(imdb_year, columns=[\"movieId\",\"title\",\"year\"])\n",
    "nan_movies_year_1 = pd.DataFrame(imdb_year_1, columns=[\"movieId\",\"title\",\"year\"])"
   ]
  },
  {
   "cell_type": "code",
   "execution_count": 62,
   "id": "04aa3bbc",
   "metadata": {},
   "outputs": [],
   "source": [
    "movieFinal= pd.concat([movies_filtered, nan_movies_year,nan_movies_year_1], axis=0)"
   ]
  },
  {
   "cell_type": "code",
   "execution_count": 71,
   "id": "3869d00c",
   "metadata": {},
   "outputs": [
    {
     "data": {
      "text/html": [
       "<div>\n",
       "<style scoped>\n",
       "    .dataframe tbody tr th:only-of-type {\n",
       "        vertical-align: middle;\n",
       "    }\n",
       "\n",
       "    .dataframe tbody tr th {\n",
       "        vertical-align: top;\n",
       "    }\n",
       "\n",
       "    .dataframe thead th {\n",
       "        text-align: right;\n",
       "    }\n",
       "</style>\n",
       "<table border=\"1\" class=\"dataframe\">\n",
       "  <thead>\n",
       "    <tr style=\"text-align: right;\">\n",
       "      <th></th>\n",
       "      <th>movieId</th>\n",
       "      <th>title</th>\n",
       "      <th>year</th>\n",
       "    </tr>\n",
       "  </thead>\n",
       "  <tbody>\n",
       "    <tr>\n",
       "      <th>0</th>\n",
       "      <td>1</td>\n",
       "      <td>Toy Story</td>\n",
       "      <td>1995</td>\n",
       "    </tr>\n",
       "    <tr>\n",
       "      <th>1</th>\n",
       "      <td>2</td>\n",
       "      <td>Jumanji</td>\n",
       "      <td>1995</td>\n",
       "    </tr>\n",
       "    <tr>\n",
       "      <th>2</th>\n",
       "      <td>3</td>\n",
       "      <td>Grumpier Old Men</td>\n",
       "      <td>1995</td>\n",
       "    </tr>\n",
       "    <tr>\n",
       "      <th>3</th>\n",
       "      <td>4</td>\n",
       "      <td>Waiting to Exhale</td>\n",
       "      <td>1995</td>\n",
       "    </tr>\n",
       "    <tr>\n",
       "      <th>4</th>\n",
       "      <td>5</td>\n",
       "      <td>Father of the Bride Part II</td>\n",
       "      <td>1995</td>\n",
       "    </tr>\n",
       "  </tbody>\n",
       "</table>\n",
       "</div>"
      ],
      "text/plain": [
       "   movieId                        title  year\n",
       "0        1                    Toy Story  1995\n",
       "1        2                      Jumanji  1995\n",
       "2        3             Grumpier Old Men  1995\n",
       "3        4            Waiting to Exhale  1995\n",
       "4        5  Father of the Bride Part II  1995"
      ]
     },
     "execution_count": 71,
     "metadata": {},
     "output_type": "execute_result"
    }
   ],
   "source": [
    "movieFinal.head()"
   ]
  },
  {
   "cell_type": "code",
   "execution_count": 72,
   "id": "422d3ab0",
   "metadata": {},
   "outputs": [
    {
     "data": {
      "text/plain": [
       "(58098, 3)"
      ]
     },
     "execution_count": 72,
     "metadata": {},
     "output_type": "execute_result"
    }
   ],
   "source": [
    "movieFinal.shape"
   ]
  },
  {
   "cell_type": "code",
   "execution_count": 73,
   "id": "4fc5e5b2",
   "metadata": {},
   "outputs": [
    {
     "name": "stdout",
     "output_type": "stream",
     "text": [
      "58098\n"
     ]
    }
   ],
   "source": [
    "print(len(movieFinal[\"movieId\"].unique()))"
   ]
  },
  {
   "cell_type": "code",
   "execution_count": 74,
   "id": "f1d6e425",
   "metadata": {},
   "outputs": [
    {
     "data": {
      "text/html": [
       "<div>\n",
       "<style scoped>\n",
       "    .dataframe tbody tr th:only-of-type {\n",
       "        vertical-align: middle;\n",
       "    }\n",
       "\n",
       "    .dataframe tbody tr th {\n",
       "        vertical-align: top;\n",
       "    }\n",
       "\n",
       "    .dataframe thead th {\n",
       "        text-align: right;\n",
       "    }\n",
       "</style>\n",
       "<table border=\"1\" class=\"dataframe\">\n",
       "  <thead>\n",
       "    <tr style=\"text-align: right;\">\n",
       "      <th></th>\n",
       "      <th>movieId</th>\n",
       "      <th>title</th>\n",
       "      <th>year</th>\n",
       "    </tr>\n",
       "  </thead>\n",
       "  <tbody>\n",
       "    <tr>\n",
       "      <th>21</th>\n",
       "      <td>177265</td>\n",
       "      <td>Checkmate</td>\n",
       "      <td>0</td>\n",
       "    </tr>\n",
       "    <tr>\n",
       "      <th>88</th>\n",
       "      <td>188661</td>\n",
       "      <td>Untitled Star Trek Sequel</td>\n",
       "      <td>0</td>\n",
       "    </tr>\n",
       "  </tbody>\n",
       "</table>\n",
       "</div>"
      ],
      "text/plain": [
       "    movieId                      title  year\n",
       "21   177265                  Checkmate     0\n",
       "88   188661  Untitled Star Trek Sequel     0"
      ]
     },
     "execution_count": 74,
     "metadata": {},
     "output_type": "execute_result"
    }
   ],
   "source": [
    "movieFinal[movieFinal[\"year\"]==0]"
   ]
  },
  {
   "cell_type": "code",
   "execution_count": 75,
   "id": "408eaf9e",
   "metadata": {},
   "outputs": [],
   "source": [
    "movieFinal.to_csv(\"movies2.csv\",index=False)"
   ]
  },
  {
   "cell_type": "code",
   "execution_count": 76,
   "id": "9d7b171c",
   "metadata": {},
   "outputs": [],
   "source": [
    "df = pd.read_csv(\"movies2.csv\")"
   ]
  },
  {
   "cell_type": "code",
   "execution_count": 77,
   "id": "c0f94fdc",
   "metadata": {},
   "outputs": [
    {
     "data": {
      "text/html": [
       "<div>\n",
       "<style scoped>\n",
       "    .dataframe tbody tr th:only-of-type {\n",
       "        vertical-align: middle;\n",
       "    }\n",
       "\n",
       "    .dataframe tbody tr th {\n",
       "        vertical-align: top;\n",
       "    }\n",
       "\n",
       "    .dataframe thead th {\n",
       "        text-align: right;\n",
       "    }\n",
       "</style>\n",
       "<table border=\"1\" class=\"dataframe\">\n",
       "  <thead>\n",
       "    <tr style=\"text-align: right;\">\n",
       "      <th></th>\n",
       "      <th>movieId</th>\n",
       "      <th>title</th>\n",
       "      <th>year</th>\n",
       "    </tr>\n",
       "  </thead>\n",
       "  <tbody>\n",
       "    <tr>\n",
       "      <th>0</th>\n",
       "      <td>1</td>\n",
       "      <td>Toy Story</td>\n",
       "      <td>1995</td>\n",
       "    </tr>\n",
       "    <tr>\n",
       "      <th>1</th>\n",
       "      <td>2</td>\n",
       "      <td>Jumanji</td>\n",
       "      <td>1995</td>\n",
       "    </tr>\n",
       "    <tr>\n",
       "      <th>2</th>\n",
       "      <td>3</td>\n",
       "      <td>Grumpier Old Men</td>\n",
       "      <td>1995</td>\n",
       "    </tr>\n",
       "    <tr>\n",
       "      <th>3</th>\n",
       "      <td>4</td>\n",
       "      <td>Waiting to Exhale</td>\n",
       "      <td>1995</td>\n",
       "    </tr>\n",
       "    <tr>\n",
       "      <th>4</th>\n",
       "      <td>5</td>\n",
       "      <td>Father of the Bride Part II</td>\n",
       "      <td>1995</td>\n",
       "    </tr>\n",
       "  </tbody>\n",
       "</table>\n",
       "</div>"
      ],
      "text/plain": [
       "   movieId                        title  year\n",
       "0        1                    Toy Story  1995\n",
       "1        2                      Jumanji  1995\n",
       "2        3             Grumpier Old Men  1995\n",
       "3        4            Waiting to Exhale  1995\n",
       "4        5  Father of the Bride Part II  1995"
      ]
     },
     "execution_count": 77,
     "metadata": {},
     "output_type": "execute_result"
    }
   ],
   "source": [
    "df.head()"
   ]
  },
  {
   "cell_type": "code",
   "execution_count": 81,
   "id": "46cab6a3",
   "metadata": {},
   "outputs": [
    {
     "data": {
      "text/html": [
       "<div>\n",
       "<style scoped>\n",
       "    .dataframe tbody tr th:only-of-type {\n",
       "        vertical-align: middle;\n",
       "    }\n",
       "\n",
       "    .dataframe tbody tr th {\n",
       "        vertical-align: top;\n",
       "    }\n",
       "\n",
       "    .dataframe thead th {\n",
       "        text-align: right;\n",
       "    }\n",
       "</style>\n",
       "<table border=\"1\" class=\"dataframe\">\n",
       "  <thead>\n",
       "    <tr style=\"text-align: right;\">\n",
       "      <th></th>\n",
       "      <th>movieId</th>\n",
       "      <th>title</th>\n",
       "      <th>year</th>\n",
       "    </tr>\n",
       "  </thead>\n",
       "  <tbody>\n",
       "    <tr>\n",
       "      <th>57762</th>\n",
       "      <td>193866</td>\n",
       "      <td>Tales from the Hood 2</td>\n",
       "      <td>2018</td>\n",
       "    </tr>\n",
       "    <tr>\n",
       "      <th>57763</th>\n",
       "      <td>193868</td>\n",
       "      <td>Dos tipos de cuidado</td>\n",
       "      <td>1953</td>\n",
       "    </tr>\n",
       "    <tr>\n",
       "      <th>57764</th>\n",
       "      <td>193870</td>\n",
       "      <td>Isabelle Eberhardt</td>\n",
       "      <td>1991</td>\n",
       "    </tr>\n",
       "    <tr>\n",
       "      <th>57765</th>\n",
       "      <td>193872</td>\n",
       "      <td>Room Laundering</td>\n",
       "      <td>2018</td>\n",
       "    </tr>\n",
       "    <tr>\n",
       "      <th>57766</th>\n",
       "      <td>193874</td>\n",
       "      <td>Blondie's Big Moment</td>\n",
       "      <td>1947</td>\n",
       "    </tr>\n",
       "    <tr>\n",
       "      <th>57767</th>\n",
       "      <td>193876</td>\n",
       "      <td>The Great Glinka</td>\n",
       "      <td>1946</td>\n",
       "    </tr>\n",
       "    <tr>\n",
       "      <th>57768</th>\n",
       "      <td>193878</td>\n",
       "      <td>Les tribulations d'une caissière</td>\n",
       "      <td>2011</td>\n",
       "    </tr>\n",
       "    <tr>\n",
       "      <th>57769</th>\n",
       "      <td>193880</td>\n",
       "      <td>Her Name Was Mumu</td>\n",
       "      <td>2016</td>\n",
       "    </tr>\n",
       "    <tr>\n",
       "      <th>57770</th>\n",
       "      <td>193882</td>\n",
       "      <td>Flora</td>\n",
       "      <td>2017</td>\n",
       "    </tr>\n",
       "    <tr>\n",
       "      <th>57771</th>\n",
       "      <td>193886</td>\n",
       "      <td>Leal</td>\n",
       "      <td>2018</td>\n",
       "    </tr>\n",
       "  </tbody>\n",
       "</table>\n",
       "</div>"
      ],
      "text/plain": [
       "       movieId                             title  year\n",
       "57762   193866             Tales from the Hood 2  2018\n",
       "57763   193868              Dos tipos de cuidado  1953\n",
       "57764   193870                Isabelle Eberhardt  1991\n",
       "57765   193872                   Room Laundering  2018\n",
       "57766   193874              Blondie's Big Moment  1947\n",
       "57767   193876                  The Great Glinka  1946\n",
       "57768   193878  Les tribulations d'une caissière  2011\n",
       "57769   193880                 Her Name Was Mumu  2016\n",
       "57770   193882                             Flora  2017\n",
       "57771   193886                              Leal  2018"
      ]
     },
     "execution_count": 81,
     "metadata": {},
     "output_type": "execute_result"
    }
   ],
   "source": [
    "df.sort_values(by=['movieId'])"
   ]
  },
  {
   "cell_type": "code",
   "execution_count": null,
   "id": "d0176ac5",
   "metadata": {},
   "outputs": [],
   "source": []
  },
  {
   "cell_type": "code",
   "execution_count": 69,
   "id": "deedc65c",
   "metadata": {},
   "outputs": [
    {
     "data": {
      "text/html": [
       "<div>\n",
       "<style scoped>\n",
       "    .dataframe tbody tr th:only-of-type {\n",
       "        vertical-align: middle;\n",
       "    }\n",
       "\n",
       "    .dataframe tbody tr th {\n",
       "        vertical-align: top;\n",
       "    }\n",
       "\n",
       "    .dataframe thead th {\n",
       "        text-align: right;\n",
       "    }\n",
       "</style>\n",
       "<table border=\"1\" class=\"dataframe\">\n",
       "  <thead>\n",
       "    <tr style=\"text-align: right;\">\n",
       "      <th></th>\n",
       "      <th>movieId</th>\n",
       "      <th>imdbId</th>\n",
       "      <th>tmdbId</th>\n",
       "    </tr>\n",
       "  </thead>\n",
       "  <tbody>\n",
       "    <tr>\n",
       "      <th>50874</th>\n",
       "      <td>177265</td>\n",
       "      <td>5640954</td>\n",
       "      <td>468479.0</td>\n",
       "    </tr>\n",
       "  </tbody>\n",
       "</table>\n",
       "</div>"
      ],
      "text/plain": [
       "       movieId   imdbId    tmdbId\n",
       "50874   177265  5640954  468479.0"
      ]
     },
     "execution_count": 69,
     "metadata": {},
     "output_type": "execute_result"
    }
   ],
   "source": [
    "links[links['movieId']==177265]"
   ]
  },
  {
   "cell_type": "code",
   "execution_count": 70,
   "id": "d556d791",
   "metadata": {},
   "outputs": [
    {
     "name": "stdout",
     "output_type": "stream",
     "text": [
      "Collecting tmdb3Note: you may need to restart the kernel to use updated packages.\n",
      "\n",
      "  Downloading tmdb3-0.7.2.tar.gz (39 kB)\n",
      "  Preparing metadata (setup.py): started\n",
      "  Preparing metadata (setup.py): finished with status 'done'\n",
      "Installing collected packages: tmdb3\n",
      "  Running setup.py install for tmdb3: started\n",
      "  Running setup.py install for tmdb3: finished with status 'done'\n",
      "Successfully installed tmdb3-0.7.2\n"
     ]
    },
    {
     "name": "stderr",
     "output_type": "stream",
     "text": [
      "  DEPRECATION: tmdb3 is being installed using the legacy 'setup.py install' method, because it does not have a 'pyproject.toml' and the 'wheel' package is not installed. pip 23.1 will enforce this behaviour change. A possible replacement is to enable the '--use-pep517' option. Discussion can be found at https://github.com/pypa/pip/issues/8559\n"
     ]
    }
   ],
   "source": [
    "#pip install tmdb3"
   ]
  },
  {
   "cell_type": "code",
   "execution_count": 47,
   "id": "92b3bb56",
   "metadata": {},
   "outputs": [],
   "source": [
    "no_year_index = []\n",
    "for i in range(len(year_list)):\n",
    "    if year_list[i] == 0:\n",
    "        no_year_index.append(i)  "
   ]
  },
  {
   "cell_type": "code",
   "execution_count": 49,
   "id": "c014ce99",
   "metadata": {},
   "outputs": [
    {
     "data": {
      "text/plain": [
       "326"
      ]
     },
     "execution_count": 49,
     "metadata": {},
     "output_type": "execute_result"
    }
   ],
   "source": [
    "len(no_year_index)"
   ]
  },
  {
   "cell_type": "code",
   "execution_count": 52,
   "id": "ddd474a8",
   "metadata": {},
   "outputs": [],
   "source": [
    "no_year_movie = []\n",
    "no_year_movie_id = []\n",
    "for year in no_year_index:\n",
    "    no_year_movie.append(new_title[year])\n",
    "    no_year_movie_id.append(movie_id_list[year])\n",
    "    "
   ]
  },
  {
   "cell_type": "code",
   "execution_count": 51,
   "id": "b090326b",
   "metadata": {},
   "outputs": [
    {
     "data": {
      "text/plain": [
       "['Category 6: Day of Destruction',\n",
       " 'Babylon 5',\n",
       " 'The Millions Game',\n",
       " 'Bicycle, Spoon, Apple',\n",
       " 'Brazil: In the Shadow of the Stadiums',\n",
       " 'Slaying the Badger',\n",
       " 'Tatort: Im Schmerz geboren',\n",
       " 'Terrible Joe Moran',\n",
       " 'The Court-Martial of Jackie Robinson',\n",
       " 'In Our Garden',\n",
       " 'Stephen Fry In America - New World',\n",
       " 'Two: The Story of Roman & Nyro',\n",
       " 'A Year Along the Abandoned Road',\n",
       " 'Body/Cialo',\n",
       " 'Polskie gówno',\n",
       " 'The Third Reich: The Rise & Fall',\n",
       " 'La vendetta dei barbari',\n",
       " 'My Own Man',\n",
       " 'Moving Alan',\n",
       " 'Zone 261',\n",
       " 'Michael Laudrup - en Fodboldspiller',\n",
       " 'Honky',\n",
       " 'Blueberry Hill',\n",
       " 'Pleasure Palace',\n",
       " 'Terror on the 40th Floor',\n",
       " \"My Boyfriend's Back\",\n",
       " 'One Night Only',\n",
       " 'Doli Saja Ke Rakhna',\n",
       " 'The Dead Lands',\n",
       " \"C'mon, Let's Live a Little\",\n",
       " 'For a Book of Dollars',\n",
       " 'Bad Boys 3',\n",
       " 'Twins from Texas',\n",
       " 'The Moon and the Sun',\n",
       " 'Señorita Justice',\n",
       " 'Red Victoria',\n",
       " 'Vaastupurush',\n",
       " \"Sierra Leone's Refugee All Stars\",\n",
       " \"L'uomo della carità\",\n",
       " 'The Big Fall',\n",
       " 'Wolves In The Snow',\n",
       " 'Rosamunde Pilcher - September',\n",
       " 'Amazon Falls',\n",
       " 'Dark Tides',\n",
       " 'The Ritual',\n",
       " 'The Expedition',\n",
       " 'Chinese Boxes',\n",
       " 'Danielův svět',\n",
       " 'The Near Room',\n",
       " 'Filmage: The Story of Descendents/All',\n",
       " 'About Sarah',\n",
       " 'La steppa',\n",
       " 'Swallows and Amazons',\n",
       " 'Ready Player One',\n",
       " 'Los tontos y los estúpidos',\n",
       " 'Ride in a Pink Car',\n",
       " 'The Naked Truth (1957)',\n",
       " 'Disaster Playground',\n",
       " 'Nice Guy',\n",
       " \"OMG, I'm a Robot!\",\n",
       " 'KillerSaurus',\n",
       " 'Viva',\n",
       " 'Ollaan vapaita',\n",
       " 'Hyena Road',\n",
       " 'Asphalt Angels',\n",
       " 'Fakta Ladh Mhana',\n",
       " 'Man Crazy',\n",
       " 'Roger la Honte',\n",
       " 'Sentimentalnyy roman',\n",
       " 'Yedyanchi Jatra',\n",
       " 'Dhadakebaaz',\n",
       " 'Ittefaq',\n",
       " 'Elämältä kaiken sain',\n",
       " 'Dil Kya Kare',\n",
       " 'Hogi Pyar Ki Jeet',\n",
       " 'Monk by Blood',\n",
       " 'I Am Syd Stone',\n",
       " 'Alone With People',\n",
       " 'Le strelle nel fosso',\n",
       " '38 Parrots',\n",
       " 'The Adventures of Sherlock Holmes and Doctor Watson',\n",
       " 'Amigo Undead',\n",
       " 'The Republic ',\n",
       " 'Ουζερί Τσιτσάνης',\n",
       " 'A Fare to Remember',\n",
       " 'The Code',\n",
       " 'Unlocking the Cage',\n",
       " 'Nocturnal Animals',\n",
       " '101次求婚',\n",
       " 'S: Saigo no Keikan - Dakkan: Recovery of Our Future',\n",
       " 'The Frog Prince',\n",
       " 'Vrijdag',\n",
       " 'Aimy in a Cage',\n",
       " 'Trophy Kids',\n",
       " 'Jasne Błękitne Okna',\n",
       " \"Mr. Kuka's Advice\",\n",
       " 'The Lovers and the Despot',\n",
       " 'Beauty and the Breast',\n",
       " 'Hundra',\n",
       " 'Holy Hell',\n",
       " 'Veljet',\n",
       " 'Pyaar Tune Kya Kiya',\n",
       " 'Vous êtes très jolie, mademoiselle',\n",
       " 'Main Madhuri Dixit Banna Chahti Hoon!',\n",
       " 'Dhund: The Fog',\n",
       " 'The Grave Digger',\n",
       " 'Vaastu Shastra',\n",
       " 'Vergeef me',\n",
       " 'Vogelfrei',\n",
       " 'Jew Like Me',\n",
       " 'Langer Licht',\n",
       " 'Family Film',\n",
       " 'Normaal: Ik Kom Altied Weer Terug',\n",
       " 'Recto / verso',\n",
       " 'Sins of the mind',\n",
       " 'Kshanam',\n",
       " 'First Position',\n",
       " \"Pawn's Move\",\n",
       " 'If These Knishes Could Talk: The Story of the NY Accent',\n",
       " 'Mapplethorpe: Look at the Pictures',\n",
       " 'The Twin Girls of Sunset Street',\n",
       " 'Absent Minded',\n",
       " 'Paterson',\n",
       " 'The Kid from Broken Gun',\n",
       " '.hack Liminality: In the Case of Mai Minase',\n",
       " '.hack Liminality In the Case of Yuki Aihara',\n",
       " '.hack Liminality In the Case of Kyoko Tohno',\n",
       " 'Citizen King',\n",
       " 'The Monkey King the Legend Begins',\n",
       " \"Anybody's Son Will Do\",\n",
       " 'The Identity Theft of Mitch Mustain',\n",
       " '6A',\n",
       " 'The Serious Game',\n",
       " 'Fant',\n",
       " \"It's Only Money\",\n",
       " 'Freedom',\n",
       " 'Back Home',\n",
       " 'After Eden',\n",
       " 'Art of the Prank',\n",
       " 'DEAD RISING : ENDGAME',\n",
       " 'Friends and Romans',\n",
       " 'Poor Devil',\n",
       " 'They Will Have To Kill Us First',\n",
       " 'Eat That Question: Frank Zappa in His Own Words',\n",
       " 'Presenting Princess Shaw',\n",
       " 'The Miki Howard Story',\n",
       " 'Digital Dharma',\n",
       " 'Tibetana',\n",
       " 'Gleason',\n",
       " 'Bazodee',\n",
       " 'El Bosco, el jardín de los sueños',\n",
       " 'Moonlight',\n",
       " 'California Winter',\n",
       " 'The Houses Are Full of Smoke',\n",
       " 'The Last Gold',\n",
       " 'The Wounded Angel',\n",
       " \"Scott Hall: Living on a Razor's Edge\",\n",
       " 'Bad Dad Rehab',\n",
       " 'A Lovasíjász',\n",
       " 'MamaBoy',\n",
       " 'The Space Between',\n",
       " 'El pejesapo',\n",
       " 'Lo Sound Desert',\n",
       " 'Set the Thames on Fire',\n",
       " 'Dugma: The Button',\n",
       " 'Amber Alert',\n",
       " 'Pad Yatra: A Green Odyssey',\n",
       " \"The Adventures of Cinderella's Daughter\",\n",
       " 'Always Faithful',\n",
       " 'Angel Has Fallen',\n",
       " 'Exchange',\n",
       " 'Rodnye',\n",
       " 'Allende en su laberinto',\n",
       " 'Dönersen Islık Çal',\n",
       " 'Uno: The Movie',\n",
       " \"The Women's Balcony\",\n",
       " 'Ulvova Mylläri',\n",
       " 'Dolpo Tulku - Heimkehr in den Himalaya',\n",
       " 'The OA',\n",
       " 'Freedom Road',\n",
       " \"Hitler's Olympics\",\n",
       " 'Science Fiction Volume One: The Osiris Child',\n",
       " 'Bienvenido a Veraz',\n",
       " 'Invention of Trust',\n",
       " 'Secret Places',\n",
       " 'Abbey Grace',\n",
       " 'Mumford & Sons: We Wrote This Yesterday',\n",
       " 'Third Guest',\n",
       " 'American Sharia',\n",
       " 'Red Wine in the Dark Night',\n",
       " 'Winning Favour',\n",
       " 'Whn the day had no name',\n",
       " 'The Glass Castle',\n",
       " 'Blindpassasjer',\n",
       " 'The Lost World of Communism',\n",
       " 'Sequence Break',\n",
       " '13 reasons why',\n",
       " 'Jedi Junior High',\n",
       " 'Cosmos',\n",
       " 'Unspeakable Horrors: The Plan 9 Conspiracy',\n",
       " 'Maria Bamford: Old Baby',\n",
       " 'Wet and Reckless',\n",
       " 'Generation Iron 2',\n",
       " 'Irwin & Fran 2013',\n",
       " 'Shivering Trunks',\n",
       " 'Supermassive Black Holes',\n",
       " 'Игра на выбывание',\n",
       " 'Falling Skies',\n",
       " 'Neither Wolf Nor Dog',\n",
       " 'Philosophy: A Guide to Happiness',\n",
       " 'Genesis',\n",
       " 'A Gray State',\n",
       " 'Salad Fingers',\n",
       " 'Le Ride',\n",
       " 'Mundo Cão',\n",
       " 'Elián',\n",
       " 'The Garden of Afflictions 2017',\n",
       " 'Abduction',\n",
       " 'Engineering Red',\n",
       " 'S.W.A.T.: Under Siege',\n",
       " 'All Superheroes Must Die 2: The Last Superhero',\n",
       " 'The Misadventures of Rick and Morty',\n",
       " 'The Land Where the Blues Began',\n",
       " 'Lauri Mäntyvaaran tuuheet ripset',\n",
       " 'Aprel',\n",
       " 'Subdue',\n",
       " 'Black Mirror',\n",
       " 'What the Waters Left Behind',\n",
       " 'Ascent to Hell',\n",
       " 'Supercon',\n",
       " 'In Search of Fellini',\n",
       " 'Checkmate',\n",
       " 'With love',\n",
       " 'The Stone',\n",
       " 'Bigfoot in Europe: Sasquatch Encounters Abroad',\n",
       " 'The Wayward Sun',\n",
       " 'Abd El-Kader',\n",
       " 'El Superstar',\n",
       " 'Palestine Blues',\n",
       " 'Pururambo',\n",
       " 'Sprawling from Grace',\n",
       " 'Teen a Go Go: A Little Film About Rock and Roll History',\n",
       " 'Vilaieha',\n",
       " 'The Lost City of Cecil B. DeMille',\n",
       " 'Slumber',\n",
       " 'Koudelka Shooting Holy Land',\n",
       " 'The Book of Birdie',\n",
       " 'Clementina',\n",
       " 'My Brother Khosrow',\n",
       " 'Samadhi Part 1: Maya, the Illusion of the Self',\n",
       " 'Going for Broke',\n",
       " 'ShadowRing',\n",
       " 'Gutboy: A Badtime Story',\n",
       " 'Kickoff',\n",
       " 'S.M.A.R.T. Chase',\n",
       " 'The End?',\n",
       " 'Rigoletto',\n",
       " 'Nebraska Supersonic',\n",
       " 'Prosta historia o miłości',\n",
       " 'Felix, Net i Nika oraz teoretycznie możliwa katastrofa',\n",
       " 'Inside John Lennon - Unauthorized',\n",
       " 'Frangi',\n",
       " 'Inoperable',\n",
       " 'به نام پدر',\n",
       " 'No Ordinary Hero: The SuperDeafy Movie',\n",
       " 'Cosmos: A Spacetime Odissey',\n",
       " 'Rooster: Spurs of Death!',\n",
       " 'Начальник',\n",
       " 'The Moors Murders',\n",
       " 'Harvest',\n",
       " 'Basmati Blues',\n",
       " 'The Favourite',\n",
       " 'Terminal',\n",
       " 'Functional Fitness',\n",
       " 'Made in Italy',\n",
       " 'NOFX Backstage Passport 2',\n",
       " 'Heroine',\n",
       " 'An Hour Behind',\n",
       " 'A Grim Becoming',\n",
       " 'The Body Tree',\n",
       " 'Seat 25',\n",
       " 'The Contender',\n",
       " 'Zero',\n",
       " \"MisLead: America's Secret Epidemic\",\n",
       " 'Sensitive: The Untold Story',\n",
       " 'Scott and Sid',\n",
       " 'Taco Shop',\n",
       " 'Fort Maria',\n",
       " 'Anthony Joshua: The Road to Klitschko',\n",
       " 'No. 1 Chung Ying Street',\n",
       " 'Diamond Dogs',\n",
       " 'The Death & Life of John F. Donovan',\n",
       " 'Sanctuary',\n",
       " 'Higher Power',\n",
       " 'Always at The Carlyle',\n",
       " 'When Bette Met Mae',\n",
       " 'Witch-Hunt',\n",
       " 'Bubblegum',\n",
       " 'Untitled Star Trek Sequel',\n",
       " 'Class Reunion 2: A Wedding and a Funeral',\n",
       " 'Veras Mantel',\n",
       " 'The Change',\n",
       " 'The Doctor From India',\n",
       " 'Tau',\n",
       " 'The Greenhorns',\n",
       " 'Inheritance',\n",
       " 'The Death of Superman',\n",
       " 'The Midnighters',\n",
       " 'Mara',\n",
       " 'A Triumph of the Heart: The Ricky Bell Story',\n",
       " 'Tell Me Your Name',\n",
       " 'Poor Boy',\n",
       " 'En Busca del Muñeco Perdido',\n",
       " 'Rich Man, Poor Woman in New York',\n",
       " 'New Neighbors, Old Fights',\n",
       " 'Lottery',\n",
       " 'Since',\n",
       " 'His Last Vow',\n",
       " 'Nakimushi Shottan no Kiseki',\n",
       " 'Undercity',\n",
       " 'Dansa först',\n",
       " 'The Sign of Three',\n",
       " 'Parwaaz Hai Junoon',\n",
       " '¿Qué te juegas?',\n",
       " 'Wall',\n",
       " 'A Kiss of Chaos']"
      ]
     },
     "execution_count": 51,
     "metadata": {},
     "output_type": "execute_result"
    }
   ],
   "source": [
    "no_year_movie"
   ]
  },
  {
   "cell_type": "code",
   "execution_count": 53,
   "id": "6a255291",
   "metadata": {},
   "outputs": [
    {
     "data": {
      "text/plain": [
       "326"
      ]
     },
     "execution_count": 53,
     "metadata": {},
     "output_type": "execute_result"
    }
   ],
   "source": [
    "len(no_year_movie_id)"
   ]
  },
  {
   "cell_type": "code",
   "execution_count": 58,
   "id": "ae8a3582",
   "metadata": {},
   "outputs": [],
   "source": [
    "nan_movies = pd.DataFrame({'movieId':no_year_movie_id,'title':no_year_movie})"
   ]
  },
  {
   "cell_type": "code",
   "execution_count": 59,
   "id": "aee7bc10",
   "metadata": {},
   "outputs": [
    {
     "data": {
      "text/html": [
       "<div>\n",
       "<style scoped>\n",
       "    .dataframe tbody tr th:only-of-type {\n",
       "        vertical-align: middle;\n",
       "    }\n",
       "\n",
       "    .dataframe tbody tr th {\n",
       "        vertical-align: top;\n",
       "    }\n",
       "\n",
       "    .dataframe thead th {\n",
       "        text-align: right;\n",
       "    }\n",
       "</style>\n",
       "<table border=\"1\" class=\"dataframe\">\n",
       "  <thead>\n",
       "    <tr style=\"text-align: right;\">\n",
       "      <th></th>\n",
       "      <th>movieId</th>\n",
       "      <th>title</th>\n",
       "    </tr>\n",
       "  </thead>\n",
       "  <tbody>\n",
       "    <tr>\n",
       "      <th>0</th>\n",
       "      <td>32930</td>\n",
       "      <td>Category 6: Day of Destruction</td>\n",
       "    </tr>\n",
       "    <tr>\n",
       "      <th>1</th>\n",
       "      <td>40697</td>\n",
       "      <td>Babylon 5</td>\n",
       "    </tr>\n",
       "    <tr>\n",
       "      <th>2</th>\n",
       "      <td>79607</td>\n",
       "      <td>The Millions Game</td>\n",
       "    </tr>\n",
       "    <tr>\n",
       "      <th>3</th>\n",
       "      <td>87442</td>\n",
       "      <td>Bicycle, Spoon, Apple</td>\n",
       "    </tr>\n",
       "    <tr>\n",
       "      <th>4</th>\n",
       "      <td>112406</td>\n",
       "      <td>Brazil: In the Shadow of the Stadiums</td>\n",
       "    </tr>\n",
       "    <tr>\n",
       "      <th>...</th>\n",
       "      <td>...</td>\n",
       "      <td>...</td>\n",
       "    </tr>\n",
       "    <tr>\n",
       "      <th>321</th>\n",
       "      <td>192339</td>\n",
       "      <td>The Sign of Three</td>\n",
       "    </tr>\n",
       "    <tr>\n",
       "      <th>322</th>\n",
       "      <td>192829</td>\n",
       "      <td>Parwaaz Hai Junoon</td>\n",
       "    </tr>\n",
       "    <tr>\n",
       "      <th>323</th>\n",
       "      <td>193149</td>\n",
       "      <td>¿Qué te juegas?</td>\n",
       "    </tr>\n",
       "    <tr>\n",
       "      <th>324</th>\n",
       "      <td>193443</td>\n",
       "      <td>Wall</td>\n",
       "    </tr>\n",
       "    <tr>\n",
       "      <th>325</th>\n",
       "      <td>193657</td>\n",
       "      <td>A Kiss of Chaos</td>\n",
       "    </tr>\n",
       "  </tbody>\n",
       "</table>\n",
       "<p>326 rows × 2 columns</p>\n",
       "</div>"
      ],
      "text/plain": [
       "     movieId                                  title\n",
       "0      32930         Category 6: Day of Destruction\n",
       "1      40697                              Babylon 5\n",
       "2      79607                      The Millions Game\n",
       "3      87442                  Bicycle, Spoon, Apple\n",
       "4     112406  Brazil: In the Shadow of the Stadiums\n",
       "..       ...                                    ...\n",
       "321   192339                      The Sign of Three\n",
       "322   192829                     Parwaaz Hai Junoon\n",
       "323   193149                        ¿Qué te juegas?\n",
       "324   193443                                   Wall\n",
       "325   193657                        A Kiss of Chaos\n",
       "\n",
       "[326 rows x 2 columns]"
      ]
     },
     "execution_count": 59,
     "metadata": {},
     "output_type": "execute_result"
    }
   ],
   "source": [
    "#movie title that have no year\n",
    "nan_movies"
   ]
  },
  {
   "cell_type": "code",
   "execution_count": 60,
   "id": "43c0a9a0",
   "metadata": {},
   "outputs": [],
   "source": [
    "nan_movies.to_csv('nan_movies.csv')"
   ]
  },
  {
   "cell_type": "code",
   "execution_count": 61,
   "id": "721852d7",
   "metadata": {},
   "outputs": [],
   "source": [
    "#creating the table(title and year)\n",
    "new_movie_title_year = pd.DataFrame({'movieId':movie_id_list,'title':new_title,'year':year_list})"
   ]
  },
  {
   "cell_type": "code",
   "execution_count": 62,
   "id": "959b442c",
   "metadata": {},
   "outputs": [
    {
     "data": {
      "text/html": [
       "<div>\n",
       "<style scoped>\n",
       "    .dataframe tbody tr th:only-of-type {\n",
       "        vertical-align: middle;\n",
       "    }\n",
       "\n",
       "    .dataframe tbody tr th {\n",
       "        vertical-align: top;\n",
       "    }\n",
       "\n",
       "    .dataframe thead th {\n",
       "        text-align: right;\n",
       "    }\n",
       "</style>\n",
       "<table border=\"1\" class=\"dataframe\">\n",
       "  <thead>\n",
       "    <tr style=\"text-align: right;\">\n",
       "      <th></th>\n",
       "      <th>movieId</th>\n",
       "      <th>title</th>\n",
       "      <th>year</th>\n",
       "    </tr>\n",
       "  </thead>\n",
       "  <tbody>\n",
       "    <tr>\n",
       "      <th>0</th>\n",
       "      <td>1</td>\n",
       "      <td>Toy Story</td>\n",
       "      <td>1995</td>\n",
       "    </tr>\n",
       "    <tr>\n",
       "      <th>1</th>\n",
       "      <td>2</td>\n",
       "      <td>Jumanji</td>\n",
       "      <td>1995</td>\n",
       "    </tr>\n",
       "    <tr>\n",
       "      <th>2</th>\n",
       "      <td>3</td>\n",
       "      <td>Grumpier Old Men</td>\n",
       "      <td>1995</td>\n",
       "    </tr>\n",
       "    <tr>\n",
       "      <th>3</th>\n",
       "      <td>4</td>\n",
       "      <td>Waiting to Exhale</td>\n",
       "      <td>1995</td>\n",
       "    </tr>\n",
       "    <tr>\n",
       "      <th>4</th>\n",
       "      <td>5</td>\n",
       "      <td>Father of the Bride Part II</td>\n",
       "      <td>1995</td>\n",
       "    </tr>\n",
       "    <tr>\n",
       "      <th>...</th>\n",
       "      <td>...</td>\n",
       "      <td>...</td>\n",
       "      <td>...</td>\n",
       "    </tr>\n",
       "    <tr>\n",
       "      <th>58093</th>\n",
       "      <td>193876</td>\n",
       "      <td>The Great Glinka</td>\n",
       "      <td>1946</td>\n",
       "    </tr>\n",
       "    <tr>\n",
       "      <th>58094</th>\n",
       "      <td>193878</td>\n",
       "      <td>Les tribulations d'une caissière</td>\n",
       "      <td>2011</td>\n",
       "    </tr>\n",
       "    <tr>\n",
       "      <th>58095</th>\n",
       "      <td>193880</td>\n",
       "      <td>Her Name Was Mumu</td>\n",
       "      <td>2016</td>\n",
       "    </tr>\n",
       "    <tr>\n",
       "      <th>58096</th>\n",
       "      <td>193882</td>\n",
       "      <td>Flora</td>\n",
       "      <td>2017</td>\n",
       "    </tr>\n",
       "    <tr>\n",
       "      <th>58097</th>\n",
       "      <td>193886</td>\n",
       "      <td>Leal</td>\n",
       "      <td>2018</td>\n",
       "    </tr>\n",
       "  </tbody>\n",
       "</table>\n",
       "<p>58098 rows × 3 columns</p>\n",
       "</div>"
      ],
      "text/plain": [
       "       movieId                             title  year\n",
       "0            1                         Toy Story  1995\n",
       "1            2                           Jumanji  1995\n",
       "2            3                  Grumpier Old Men  1995\n",
       "3            4                 Waiting to Exhale  1995\n",
       "4            5       Father of the Bride Part II  1995\n",
       "...        ...                               ...   ...\n",
       "58093   193876                  The Great Glinka  1946\n",
       "58094   193878  Les tribulations d'une caissière  2011\n",
       "58095   193880                 Her Name Was Mumu  2016\n",
       "58096   193882                             Flora  2017\n",
       "58097   193886                              Leal  2018\n",
       "\n",
       "[58098 rows x 3 columns]"
      ]
     },
     "execution_count": 62,
     "metadata": {},
     "output_type": "execute_result"
    }
   ],
   "source": [
    "new_movie_title_year"
   ]
  },
  {
   "cell_type": "code",
   "execution_count": 70,
   "id": "4a73fe6d",
   "metadata": {},
   "outputs": [
    {
     "data": {
      "text/html": [
       "<div>\n",
       "<style scoped>\n",
       "    .dataframe tbody tr th:only-of-type {\n",
       "        vertical-align: middle;\n",
       "    }\n",
       "\n",
       "    .dataframe tbody tr th {\n",
       "        vertical-align: top;\n",
       "    }\n",
       "\n",
       "    .dataframe thead th {\n",
       "        text-align: right;\n",
       "    }\n",
       "</style>\n",
       "<table border=\"1\" class=\"dataframe\">\n",
       "  <thead>\n",
       "    <tr style=\"text-align: right;\">\n",
       "      <th></th>\n",
       "      <th>userId</th>\n",
       "      <th>movieId</th>\n",
       "      <th>rating</th>\n",
       "    </tr>\n",
       "  </thead>\n",
       "  <tbody>\n",
       "    <tr>\n",
       "      <th>0</th>\n",
       "      <td>1</td>\n",
       "      <td>307</td>\n",
       "      <td>3.5</td>\n",
       "    </tr>\n",
       "    <tr>\n",
       "      <th>1</th>\n",
       "      <td>1</td>\n",
       "      <td>481</td>\n",
       "      <td>3.5</td>\n",
       "    </tr>\n",
       "    <tr>\n",
       "      <th>2</th>\n",
       "      <td>1</td>\n",
       "      <td>1091</td>\n",
       "      <td>1.5</td>\n",
       "    </tr>\n",
       "    <tr>\n",
       "      <th>3</th>\n",
       "      <td>1</td>\n",
       "      <td>1257</td>\n",
       "      <td>4.5</td>\n",
       "    </tr>\n",
       "    <tr>\n",
       "      <th>4</th>\n",
       "      <td>1</td>\n",
       "      <td>1449</td>\n",
       "      <td>4.5</td>\n",
       "    </tr>\n",
       "    <tr>\n",
       "      <th>...</th>\n",
       "      <td>...</td>\n",
       "      <td>...</td>\n",
       "      <td>...</td>\n",
       "    </tr>\n",
       "    <tr>\n",
       "      <th>27753439</th>\n",
       "      <td>283228</td>\n",
       "      <td>8542</td>\n",
       "      <td>4.5</td>\n",
       "    </tr>\n",
       "    <tr>\n",
       "      <th>27753440</th>\n",
       "      <td>283228</td>\n",
       "      <td>8712</td>\n",
       "      <td>4.5</td>\n",
       "    </tr>\n",
       "    <tr>\n",
       "      <th>27753441</th>\n",
       "      <td>283228</td>\n",
       "      <td>34405</td>\n",
       "      <td>4.5</td>\n",
       "    </tr>\n",
       "    <tr>\n",
       "      <th>27753442</th>\n",
       "      <td>283228</td>\n",
       "      <td>44761</td>\n",
       "      <td>4.5</td>\n",
       "    </tr>\n",
       "    <tr>\n",
       "      <th>27753443</th>\n",
       "      <td>283228</td>\n",
       "      <td>54286</td>\n",
       "      <td>4.5</td>\n",
       "    </tr>\n",
       "  </tbody>\n",
       "</table>\n",
       "<p>27753444 rows × 3 columns</p>\n",
       "</div>"
      ],
      "text/plain": [
       "          userId  movieId  rating\n",
       "0              1      307     3.5\n",
       "1              1      481     3.5\n",
       "2              1     1091     1.5\n",
       "3              1     1257     4.5\n",
       "4              1     1449     4.5\n",
       "...          ...      ...     ...\n",
       "27753439  283228     8542     4.5\n",
       "27753440  283228     8712     4.5\n",
       "27753441  283228    34405     4.5\n",
       "27753442  283228    44761     4.5\n",
       "27753443  283228    54286     4.5\n",
       "\n",
       "[27753444 rows x 3 columns]"
      ]
     },
     "execution_count": 70,
     "metadata": {},
     "output_type": "execute_result"
    }
   ],
   "source": [
    "df"
   ]
  },
  {
   "cell_type": "code",
   "execution_count": 94,
   "id": "70cf62a6",
   "metadata": {},
   "outputs": [
    {
     "data": {
      "text/plain": [
       "userId           0\n",
       "movieId          0\n",
       "rating           0\n",
       "y_unit_scaled    0\n",
       "dtype: int64"
      ]
     },
     "execution_count": 94,
     "metadata": {},
     "output_type": "execute_result"
    }
   ],
   "source": [
    "df.isna().sum()"
   ]
  },
  {
   "cell_type": "code",
   "execution_count": 71,
   "id": "ad51ac13",
   "metadata": {},
   "outputs": [],
   "source": [
    "userid_list = list(df['userId'])\n",
    "rating_movieid_list = list(df['movieId'])\n",
    "rating_list = list(df['rating'])"
   ]
  },
  {
   "cell_type": "code",
   "execution_count": 72,
   "id": "5d0fa70f",
   "metadata": {},
   "outputs": [],
   "source": [
    "unique_movieid = set(rating_movieid_list)"
   ]
  },
  {
   "cell_type": "code",
   "execution_count": 76,
   "id": "2b2830ab",
   "metadata": {},
   "outputs": [
    {
     "name": "stdout",
     "output_type": "stream",
     "text": [
      "27753444\n",
      "53889\n"
     ]
    }
   ],
   "source": [
    "print(len(rating_movieid_list))\n",
    "print(len(unique_movieid))"
   ]
  },
  {
   "cell_type": "code",
   "execution_count": 93,
   "id": "b1d6c810",
   "metadata": {},
   "outputs": [
    {
     "name": "stdout",
     "output_type": "stream",
     "text": [
      "0\n"
     ]
    }
   ],
   "source": []
  },
  {
   "cell_type": "code",
   "execution_count": 81,
   "id": "c9cc913d",
   "metadata": {},
   "outputs": [],
   "source": [
    "n_ratings = len(df)\n",
    "n_train = math.floor(n_ratings)\n",
    "itrain = df.index[:n_train]\n",
    "ival = df.index[n_train:]"
   ]
  },
  {
   "cell_type": "code",
   "execution_count": 84,
   "id": "3b79e04f",
   "metadata": {},
   "outputs": [],
   "source": [
    "df['y'] = df['rating'] - df.loc[itrain, 'rating'].mean()"
   ]
  },
  {
   "cell_type": "code",
   "execution_count": 88,
   "id": "33b1e1e5",
   "metadata": {},
   "outputs": [],
   "source": [
    "SCALE = 1\n",
    "if SCALE:\n",
    "    yscaler = sklearn.preprocessing.MinMaxScaler()\n",
    "    yscaler.fit(df.loc[itrain, 'rating'].values.reshape(-1, 1))\n",
    "    df['y_unit_scaled'] = yscaler.transform(df['rating'].values.reshape(-1, 1))"
   ]
  },
  {
   "cell_type": "code",
   "execution_count": 91,
   "id": "d35f3579",
   "metadata": {},
   "outputs": [],
   "source": [
    "df.drop('y',axis = 1,inplace = True)"
   ]
  },
  {
   "cell_type": "code",
   "execution_count": null,
   "id": "a95e8ff6",
   "metadata": {},
   "outputs": [],
   "source": []
  }
 ],
 "metadata": {
  "kernelspec": {
   "display_name": "Python 3 (ipykernel)",
   "language": "python",
   "name": "python3"
  },
  "language_info": {
   "codemirror_mode": {
    "name": "ipython",
    "version": 3
   },
   "file_extension": ".py",
   "mimetype": "text/x-python",
   "name": "python",
   "nbconvert_exporter": "python",
   "pygments_lexer": "ipython3",
   "version": "3.10.6"
  }
 },
 "nbformat": 4,
 "nbformat_minor": 5
}
